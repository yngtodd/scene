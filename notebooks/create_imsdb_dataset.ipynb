{
 "cells": [
  {
   "cell_type": "markdown",
   "metadata": {},
   "source": [
    "### A Wild Dataset has Appeared!"
   ]
  },
  {
   "cell_type": "code",
   "execution_count": 49,
   "metadata": {},
   "outputs": [],
   "source": [
    "import os\n",
    "import numpy as np\n",
    "import pandas as pd\n",
    "\n",
    "from scene.data.external.imsdb import sample_from_genre\n",
    "from scene.data.external.imsdb import create_genre_dataframe"
   ]
  },
  {
   "cell_type": "code",
   "execution_count": 93,
   "metadata": {},
   "outputs": [],
   "source": [
    "original_data_path = '/Users/yngtodd/src/kaggle/scene/data/splits/small_val/csv/train.csv'\n",
    "datapath = '/Users/yngtodd/data/imsdb_raw_nov_2015/external'\n",
    "outpath = 'Users/yngtodd/'"
   ]
  },
  {
   "cell_type": "markdown",
   "metadata": {},
   "source": [
    "We need a number of samples from each genre to balance out the dataset."
   ]
  },
  {
   "cell_type": "code",
   "execution_count": 130,
   "metadata": {},
   "outputs": [],
   "source": [
    "num_action = 8000 - 2392\n",
    "num_adventure = 8000 - 147\n",
    "num_comedy = 8000 - 2941\n",
    "num_horror = 8000 - 456\n",
    "num_romance = 8000 - 63\n",
    "num_scifi = 8000 - 613\n",
    "num_thriller = 8000 - 6824"
   ]
  },
  {
   "cell_type": "markdown",
   "metadata": {},
   "source": [
    "The Other category is special."
   ]
  },
  {
   "cell_type": "code",
   "execution_count": 134,
   "metadata": {},
   "outputs": [],
   "source": [
    "num_other = 8000 - 270\n",
    "# There are 15 categories that could fall in other.\n",
    "num_other = num_other // 15\n",
    "\n",
    "otherpath = '/Users/yngtodd/data/imsdb_raw_nov_2015/'"
   ]
  },
  {
   "cell_type": "code",
   "execution_count": 137,
   "metadata": {},
   "outputs": [],
   "source": [
    "def get_genre_path(genre, imsdb_path=otherpath):\n",
    "    return os.path.join(imsdb_path, genre)"
   ]
  },
  {
   "cell_type": "code",
   "execution_count": 5,
   "metadata": {},
   "outputs": [],
   "source": [
    "action_path = get_genre_path('Action')\n",
    "adventure_path = get_genre_path('Adventure')\n",
    "comedy_path = get_genre_path('Comedy')\n",
    "horror_path = get_genre_path('Horror')\n",
    "romance_path = get_genre_path('Romance')\n",
    "scifi_path = get_genre_path('Sci-Fi')\n",
    "thriller_path = get_genre_path('Thriller')"
   ]
  },
  {
   "cell_type": "markdown",
   "metadata": {},
   "source": [
    "### Create augmented sets"
   ]
  },
  {
   "cell_type": "code",
   "execution_count": 15,
   "metadata": {},
   "outputs": [],
   "source": [
    "action = create_genre_dataframe('action', action_path, num_action, 1111)"
   ]
  },
  {
   "cell_type": "code",
   "execution_count": 16,
   "metadata": {},
   "outputs": [],
   "source": [
    "adventure = create_genre_dataframe('adventure', adventure_path, num_adventure, 2222)"
   ]
  },
  {
   "cell_type": "code",
   "execution_count": 17,
   "metadata": {},
   "outputs": [],
   "source": [
    "comedy = create_genre_dataframe('comedy', comedy_path, num_comedy, 3333)"
   ]
  },
  {
   "cell_type": "code",
   "execution_count": 18,
   "metadata": {},
   "outputs": [],
   "source": [
    "horror = create_genre_dataframe('horror', horror_path, num_horror, 4444)"
   ]
  },
  {
   "cell_type": "code",
   "execution_count": 19,
   "metadata": {},
   "outputs": [],
   "source": [
    "romance = create_genre_dataframe('romance', romance_path, num_romance, 5555)"
   ]
  },
  {
   "cell_type": "code",
   "execution_count": 20,
   "metadata": {},
   "outputs": [],
   "source": [
    "scifi = create_genre_dataframe('sci-fi', scifi_path, num_scifi, 6666)"
   ]
  },
  {
   "cell_type": "code",
   "execution_count": 21,
   "metadata": {},
   "outputs": [],
   "source": [
    "thriller = create_genre_dataframe('thriller', thriller_path, num_thriller, 7777)"
   ]
  },
  {
   "cell_type": "markdown",
   "metadata": {},
   "source": [
    "### Create and OTHER dataset."
   ]
  },
  {
   "cell_type": "code",
   "execution_count": 143,
   "metadata": {},
   "outputs": [],
   "source": [
    "def get_other_subset(genre):\n",
    "    path = get_genre_path(genre)\n",
    "    df = create_genre_dataframe('other', path, num_other, 8888)\n",
    "    return df"
   ]
  },
  {
   "cell_type": "code",
   "execution_count": 144,
   "metadata": {},
   "outputs": [],
   "source": [
    "animation = get_other_subset('Animation')"
   ]
  },
  {
   "cell_type": "code",
   "execution_count": 145,
   "metadata": {},
   "outputs": [],
   "source": [
    "biography = get_other_subset('Biography')"
   ]
  },
  {
   "cell_type": "code",
   "execution_count": 146,
   "metadata": {},
   "outputs": [],
   "source": [
    "crime = get_other_subset('Crime')"
   ]
  },
  {
   "cell_type": "code",
   "execution_count": 147,
   "metadata": {},
   "outputs": [],
   "source": [
    "family = get_other_subset('Family')"
   ]
  },
  {
   "cell_type": "code",
   "execution_count": 148,
   "metadata": {},
   "outputs": [],
   "source": [
    "film_noir = get_other_subset('Film-Noir')"
   ]
  },
  {
   "cell_type": "code",
   "execution_count": 149,
   "metadata": {},
   "outputs": [],
   "source": [
    "history = get_other_subset('History')"
   ]
  },
  {
   "cell_type": "code",
   "execution_count": 150,
   "metadata": {},
   "outputs": [],
   "source": [
    "music = get_other_subset('Music')"
   ]
  },
  {
   "cell_type": "code",
   "execution_count": 151,
   "metadata": {},
   "outputs": [],
   "source": [
    "musical = get_other_subset('Musical')"
   ]
  },
  {
   "cell_type": "code",
   "execution_count": 152,
   "metadata": {},
   "outputs": [],
   "source": [
    "mystery = get_other_subset('Mystery')"
   ]
  },
  {
   "cell_type": "code",
   "execution_count": 153,
   "metadata": {},
   "outputs": [],
   "source": [
    "short = get_other_subset('Short')"
   ]
  },
  {
   "cell_type": "code",
   "execution_count": 154,
   "metadata": {},
   "outputs": [],
   "source": [
    "sport = get_other_subset('Sport')"
   ]
  },
  {
   "cell_type": "code",
   "execution_count": 155,
   "metadata": {},
   "outputs": [],
   "source": [
    "war = get_other_subset('War')"
   ]
  },
  {
   "cell_type": "code",
   "execution_count": 156,
   "metadata": {},
   "outputs": [],
   "source": [
    "western = get_other_subset('Western')"
   ]
  },
  {
   "cell_type": "code",
   "execution_count": 158,
   "metadata": {},
   "outputs": [],
   "source": [
    "other_data = [animation, biography, crime, family, film_noir, history, music, musical, mystery, short, war, western]\n",
    "other = pd.concat(other_data)"
   ]
  },
  {
   "cell_type": "code",
   "execution_count": 160,
   "metadata": {},
   "outputs": [
    {
     "data": {
      "text/html": [
       "<div>\n",
       "<style scoped>\n",
       "    .dataframe tbody tr th:only-of-type {\n",
       "        vertical-align: middle;\n",
       "    }\n",
       "\n",
       "    .dataframe tbody tr th {\n",
       "        vertical-align: top;\n",
       "    }\n",
       "\n",
       "    .dataframe thead th {\n",
       "        text-align: right;\n",
       "    }\n",
       "</style>\n",
       "<table border=\"1\" class=\"dataframe\">\n",
       "  <thead>\n",
       "    <tr style=\"text-align: right;\">\n",
       "      <th></th>\n",
       "      <th>id</th>\n",
       "      <th>text</th>\n",
       "      <th>genre</th>\n",
       "    </tr>\n",
       "  </thead>\n",
       "  <tbody>\n",
       "    <tr>\n",
       "      <th>0</th>\n",
       "      <td>88880</td>\n",
       "      <td>s voice returned, SPEAKS to her.  CAT  You kno...</td>\n",
       "      <td>other</td>\n",
       "    </tr>\n",
       "    <tr>\n",
       "      <th>1</th>\n",
       "      <td>88881</td>\n",
       "      <td>to tickle your  eyes and ears and making heart...</td>\n",
       "      <td>other</td>\n",
       "    </tr>\n",
       "    <tr>\n",
       "      <th>2</th>\n",
       "      <td>88882</td>\n",
       "      <td>CIBLE, along with their DOGS, are set up at  a...</td>\n",
       "      <td>other</td>\n",
       "    </tr>\n",
       "    <tr>\n",
       "      <th>3</th>\n",
       "      <td>88883</td>\n",
       "      <td>ns, and braids, and....  Her voice trails off....</td>\n",
       "      <td>other</td>\n",
       "    </tr>\n",
       "    <tr>\n",
       "      <th>4</th>\n",
       "      <td>88884</td>\n",
       "      <td>LT DOWN to view  Coraline crossing frame on a ...</td>\n",
       "      <td>other</td>\n",
       "    </tr>\n",
       "    <tr>\n",
       "      <th>5</th>\n",
       "      <td>88885</td>\n",
       "      <td>LS,  Coraline sees him for the first time. Wit...</td>\n",
       "      <td>other</td>\n",
       "    </tr>\n",
       "    <tr>\n",
       "      <th>6</th>\n",
       "      <td>88886</td>\n",
       "      <td>s study.  INT. OTHER HALLWAY - SAME  Coraline ...</td>\n",
       "      <td>other</td>\n",
       "    </tr>\n",
       "    <tr>\n",
       "      <th>7</th>\n",
       "      <td>88887</td>\n",
       "      <td>nd it.  CORALINE  (WHISPERS)  I can't look!  O...</td>\n",
       "      <td>other</td>\n",
       "    </tr>\n",
       "    <tr>\n",
       "      <th>8</th>\n",
       "      <td>88888</td>\n",
       "      <td>GRANDMOTHER (O.C.)  Wyborne!  Wybie turns away...</td>\n",
       "      <td>other</td>\n",
       "    </tr>\n",
       "    <tr>\n",
       "      <th>9</th>\n",
       "      <td>88889</td>\n",
       "      <td>rners of his mouth impossibly far.  OTHER FATH...</td>\n",
       "      <td>other</td>\n",
       "    </tr>\n",
       "  </tbody>\n",
       "</table>\n",
       "</div>"
      ],
      "text/plain": [
       "      id                                               text  genre\n",
       "0  88880  s voice returned, SPEAKS to her.  CAT  You kno...  other\n",
       "1  88881  to tickle your  eyes and ears and making heart...  other\n",
       "2  88882  CIBLE, along with their DOGS, are set up at  a...  other\n",
       "3  88883  ns, and braids, and....  Her voice trails off....  other\n",
       "4  88884  LT DOWN to view  Coraline crossing frame on a ...  other\n",
       "5  88885  LS,  Coraline sees him for the first time. Wit...  other\n",
       "6  88886  s study.  INT. OTHER HALLWAY - SAME  Coraline ...  other\n",
       "7  88887  nd it.  CORALINE  (WHISPERS)  I can't look!  O...  other\n",
       "8  88888  GRANDMOTHER (O.C.)  Wyborne!  Wybie turns away...  other\n",
       "9  88889  rners of his mouth impossibly far.  OTHER FATH...  other"
      ]
     },
     "execution_count": 160,
     "metadata": {},
     "output_type": "execute_result"
    }
   ],
   "source": [
    "other[:10]"
   ]
  },
  {
   "cell_type": "markdown",
   "metadata": {},
   "source": [
    "### Concatenate Datasets"
   ]
  },
  {
   "cell_type": "code",
   "execution_count": 27,
   "metadata": {},
   "outputs": [],
   "source": [
    "all_data = [action, adventure, comedy, horror, romance, scifi, thriller]"
   ]
  },
  {
   "cell_type": "code",
   "execution_count": 28,
   "metadata": {},
   "outputs": [],
   "source": [
    "augmented_data = pd.concat(all_data)"
   ]
  },
  {
   "cell_type": "code",
   "execution_count": 31,
   "metadata": {},
   "outputs": [
    {
     "data": {
      "text/plain": [
       "(42564, 3)"
      ]
     },
     "execution_count": 31,
     "metadata": {},
     "output_type": "execute_result"
    }
   ],
   "source": [
    "augmented_data.shape"
   ]
  },
  {
   "cell_type": "code",
   "execution_count": 102,
   "metadata": {},
   "outputs": [],
   "source": [
    "orig = pd.read_csv(original_data_path)\n",
    "labels = orig.pop('labels')"
   ]
  },
  {
   "cell_type": "code",
   "execution_count": 103,
   "metadata": {},
   "outputs": [],
   "source": [
    "new_train = pd.concat([orig, augmented_data])"
   ]
  },
  {
   "cell_type": "code",
   "execution_count": 104,
   "metadata": {},
   "outputs": [
    {
     "data": {
      "text/plain": [
       "(20321, 3)"
      ]
     },
     "execution_count": 104,
     "metadata": {},
     "output_type": "execute_result"
    }
   ],
   "source": [
    "orig.shape"
   ]
  },
  {
   "cell_type": "code",
   "execution_count": 105,
   "metadata": {},
   "outputs": [
    {
     "data": {
      "text/plain": [
       "(62885, 3)"
      ]
     },
     "execution_count": 105,
     "metadata": {},
     "output_type": "execute_result"
    }
   ],
   "source": [
    "new_train.shape"
   ]
  },
  {
   "cell_type": "code",
   "execution_count": 106,
   "metadata": {},
   "outputs": [
    {
     "data": {
      "text/html": [
       "<div>\n",
       "<style scoped>\n",
       "    .dataframe tbody tr th:only-of-type {\n",
       "        vertical-align: middle;\n",
       "    }\n",
       "\n",
       "    .dataframe tbody tr th {\n",
       "        vertical-align: top;\n",
       "    }\n",
       "\n",
       "    .dataframe thead th {\n",
       "        text-align: right;\n",
       "    }\n",
       "</style>\n",
       "<table border=\"1\" class=\"dataframe\">\n",
       "  <thead>\n",
       "    <tr style=\"text-align: right;\">\n",
       "      <th></th>\n",
       "      <th>id</th>\n",
       "      <th>text</th>\n",
       "      <th>genre</th>\n",
       "    </tr>\n",
       "  </thead>\n",
       "  <tbody>\n",
       "    <tr>\n",
       "      <th>0</th>\n",
       "      <td>26123</td>\n",
       "      <td>OICES coming from the living room. INT. LIVING...</td>\n",
       "      <td>thriller</td>\n",
       "    </tr>\n",
       "    <tr>\n",
       "      <th>1</th>\n",
       "      <td>15843</td>\n",
       "      <td>n exotic looking container full of dark liquid...</td>\n",
       "      <td>thriller</td>\n",
       "    </tr>\n",
       "    <tr>\n",
       "      <th>2</th>\n",
       "      <td>7385</td>\n",
       "      <td>at the board game. DANNY What is this, Staling...</td>\n",
       "      <td>drama</td>\n",
       "    </tr>\n",
       "    <tr>\n",
       "      <th>3</th>\n",
       "      <td>17645</td>\n",
       "      <td>ng, sir. I, on the other hand, am in a positio...</td>\n",
       "      <td>thriller</td>\n",
       "    </tr>\n",
       "    <tr>\n",
       "      <th>4</th>\n",
       "      <td>25175</td>\n",
       "      <td>e how in the count room nobody ever seems to s...</td>\n",
       "      <td>drama</td>\n",
       "    </tr>\n",
       "    <tr>\n",
       "      <th>5</th>\n",
       "      <td>6256</td>\n",
       "      <td>BED NIGHT Brian and Jennifer are into the rhy...</td>\n",
       "      <td>drama</td>\n",
       "    </tr>\n",
       "    <tr>\n",
       "      <th>6</th>\n",
       "      <td>15167</td>\n",
       "      <td>CT A beam of heat vision Shoots from our hero'...</td>\n",
       "      <td>action</td>\n",
       "    </tr>\n",
       "    <tr>\n",
       "      <th>7</th>\n",
       "      <td>8340</td>\n",
       "      <td>ie and her father have reached the altar. The ...</td>\n",
       "      <td>comedy</td>\n",
       "    </tr>\n",
       "    <tr>\n",
       "      <th>8</th>\n",
       "      <td>7808</td>\n",
       "      <td>dusts herself off. Looking skyward to the loft...</td>\n",
       "      <td>horror</td>\n",
       "    </tr>\n",
       "    <tr>\n",
       "      <th>9</th>\n",
       "      <td>16011</td>\n",
       "      <td>ng a folder from a box. REED But I'm not done ...</td>\n",
       "      <td>action</td>\n",
       "    </tr>\n",
       "  </tbody>\n",
       "</table>\n",
       "</div>"
      ],
      "text/plain": [
       "      id                                               text     genre\n",
       "0  26123  OICES coming from the living room. INT. LIVING...  thriller\n",
       "1  15843  n exotic looking container full of dark liquid...  thriller\n",
       "2   7385  at the board game. DANNY What is this, Staling...     drama\n",
       "3  17645  ng, sir. I, on the other hand, am in a positio...  thriller\n",
       "4  25175  e how in the count room nobody ever seems to s...     drama\n",
       "5   6256   BED NIGHT Brian and Jennifer are into the rhy...     drama\n",
       "6  15167  CT A beam of heat vision Shoots from our hero'...    action\n",
       "7   8340  ie and her father have reached the altar. The ...    comedy\n",
       "8   7808  dusts herself off. Looking skyward to the loft...    horror\n",
       "9  16011  ng a folder from a box. REED But I'm not done ...    action"
      ]
     },
     "execution_count": 106,
     "metadata": {},
     "output_type": "execute_result"
    }
   ],
   "source": [
    "orig[0:10]"
   ]
  },
  {
   "cell_type": "code",
   "execution_count": 107,
   "metadata": {},
   "outputs": [
    {
     "data": {
      "text/html": [
       "<div>\n",
       "<style scoped>\n",
       "    .dataframe tbody tr th:only-of-type {\n",
       "        vertical-align: middle;\n",
       "    }\n",
       "\n",
       "    .dataframe tbody tr th {\n",
       "        vertical-align: top;\n",
       "    }\n",
       "\n",
       "    .dataframe thead th {\n",
       "        text-align: right;\n",
       "    }\n",
       "</style>\n",
       "<table border=\"1\" class=\"dataframe\">\n",
       "  <thead>\n",
       "    <tr style=\"text-align: right;\">\n",
       "      <th></th>\n",
       "      <th>id</th>\n",
       "      <th>text</th>\n",
       "      <th>genre</th>\n",
       "    </tr>\n",
       "  </thead>\n",
       "  <tbody>\n",
       "    <tr>\n",
       "      <th>0</th>\n",
       "      <td>26123</td>\n",
       "      <td>OICES coming from the living room. INT. LIVING...</td>\n",
       "      <td>thriller</td>\n",
       "    </tr>\n",
       "    <tr>\n",
       "      <th>1</th>\n",
       "      <td>15843</td>\n",
       "      <td>n exotic looking container full of dark liquid...</td>\n",
       "      <td>thriller</td>\n",
       "    </tr>\n",
       "    <tr>\n",
       "      <th>2</th>\n",
       "      <td>7385</td>\n",
       "      <td>at the board game. DANNY What is this, Staling...</td>\n",
       "      <td>drama</td>\n",
       "    </tr>\n",
       "    <tr>\n",
       "      <th>3</th>\n",
       "      <td>17645</td>\n",
       "      <td>ng, sir. I, on the other hand, am in a positio...</td>\n",
       "      <td>thriller</td>\n",
       "    </tr>\n",
       "    <tr>\n",
       "      <th>4</th>\n",
       "      <td>25175</td>\n",
       "      <td>e how in the count room nobody ever seems to s...</td>\n",
       "      <td>drama</td>\n",
       "    </tr>\n",
       "    <tr>\n",
       "      <th>5</th>\n",
       "      <td>6256</td>\n",
       "      <td>BED NIGHT Brian and Jennifer are into the rhy...</td>\n",
       "      <td>drama</td>\n",
       "    </tr>\n",
       "    <tr>\n",
       "      <th>6</th>\n",
       "      <td>15167</td>\n",
       "      <td>CT A beam of heat vision Shoots from our hero'...</td>\n",
       "      <td>action</td>\n",
       "    </tr>\n",
       "    <tr>\n",
       "      <th>7</th>\n",
       "      <td>8340</td>\n",
       "      <td>ie and her father have reached the altar. The ...</td>\n",
       "      <td>comedy</td>\n",
       "    </tr>\n",
       "    <tr>\n",
       "      <th>8</th>\n",
       "      <td>7808</td>\n",
       "      <td>dusts herself off. Looking skyward to the loft...</td>\n",
       "      <td>horror</td>\n",
       "    </tr>\n",
       "    <tr>\n",
       "      <th>9</th>\n",
       "      <td>16011</td>\n",
       "      <td>ng a folder from a box. REED But I'm not done ...</td>\n",
       "      <td>action</td>\n",
       "    </tr>\n",
       "  </tbody>\n",
       "</table>\n",
       "</div>"
      ],
      "text/plain": [
       "      id                                               text     genre\n",
       "0  26123  OICES coming from the living room. INT. LIVING...  thriller\n",
       "1  15843  n exotic looking container full of dark liquid...  thriller\n",
       "2   7385  at the board game. DANNY What is this, Staling...     drama\n",
       "3  17645  ng, sir. I, on the other hand, am in a positio...  thriller\n",
       "4  25175  e how in the count room nobody ever seems to s...     drama\n",
       "5   6256   BED NIGHT Brian and Jennifer are into the rhy...     drama\n",
       "6  15167  CT A beam of heat vision Shoots from our hero'...    action\n",
       "7   8340  ie and her father have reached the altar. The ...    comedy\n",
       "8   7808  dusts herself off. Looking skyward to the loft...    horror\n",
       "9  16011  ng a folder from a box. REED But I'm not done ...    action"
      ]
     },
     "execution_count": 107,
     "metadata": {},
     "output_type": "execute_result"
    }
   ],
   "source": [
    "new_train[:10]"
   ]
  },
  {
   "cell_type": "code",
   "execution_count": 166,
   "metadata": {},
   "outputs": [],
   "source": [
    "outpath = '/Users/yngtodd/src/kaggle/scene/data/splits/small_val/full_augment/train.csv'"
   ]
  },
  {
   "cell_type": "code",
   "execution_count": 109,
   "metadata": {},
   "outputs": [],
   "source": [
    "new_train.to_csv(outpath, index=False)"
   ]
  },
  {
   "cell_type": "code",
   "execution_count": 161,
   "metadata": {},
   "outputs": [],
   "source": [
    "train = pd.read_csv(outpath)"
   ]
  },
  {
   "cell_type": "code",
   "execution_count": 162,
   "metadata": {},
   "outputs": [
    {
     "data": {
      "text/html": [
       "<div>\n",
       "<style scoped>\n",
       "    .dataframe tbody tr th:only-of-type {\n",
       "        vertical-align: middle;\n",
       "    }\n",
       "\n",
       "    .dataframe tbody tr th {\n",
       "        vertical-align: top;\n",
       "    }\n",
       "\n",
       "    .dataframe thead th {\n",
       "        text-align: right;\n",
       "    }\n",
       "</style>\n",
       "<table border=\"1\" class=\"dataframe\">\n",
       "  <thead>\n",
       "    <tr style=\"text-align: right;\">\n",
       "      <th></th>\n",
       "      <th>id</th>\n",
       "      <th>text</th>\n",
       "      <th>genre</th>\n",
       "    </tr>\n",
       "  </thead>\n",
       "  <tbody>\n",
       "    <tr>\n",
       "      <th>62875</th>\n",
       "      <td>22221829</td>\n",
       "      <td>artifacts.  CHATTAR LAL  A very fine collecti...</td>\n",
       "      <td>adventure</td>\n",
       "    </tr>\n",
       "    <tr>\n",
       "      <th>62876</th>\n",
       "      <td>2222351</td>\n",
       "      <td>t. It's a crowd of prisoners in Central  Park....</td>\n",
       "      <td>adventure</td>\n",
       "    </tr>\n",
       "    <tr>\n",
       "      <th>62877</th>\n",
       "      <td>11111500</td>\n",
       "      <td>A.T.\" PULL BACK to reveal it pinned to Virgil...</td>\n",
       "      <td>action</td>\n",
       "    </tr>\n",
       "    <tr>\n",
       "      <th>62878</th>\n",
       "      <td>2618</td>\n",
       "      <td>Following it are a half dozen miners' cars. Th...</td>\n",
       "      <td>drama</td>\n",
       "    </tr>\n",
       "    <tr>\n",
       "      <th>62879</th>\n",
       "      <td>33332046</td>\n",
       "      <td>last lingering  look.  ROB  Can I buy this Oti...</td>\n",
       "      <td>comedy</td>\n",
       "    </tr>\n",
       "    <tr>\n",
       "      <th>62880</th>\n",
       "      <td>5555890</td>\n",
       "      <td>hat everyone did.  WILLIAM  Bloody hell, I can...</td>\n",
       "      <td>romance</td>\n",
       "    </tr>\n",
       "    <tr>\n",
       "      <th>62881</th>\n",
       "      <td>44442536</td>\n",
       "      <td>dust and cobwebs are housed behind an iron gri...</td>\n",
       "      <td>horror</td>\n",
       "    </tr>\n",
       "    <tr>\n",
       "      <th>62882</th>\n",
       "      <td>66661794</td>\n",
       "      <td>'t believe  who's in on it.  MARLON  (distract...</td>\n",
       "      <td>sci-fi</td>\n",
       "    </tr>\n",
       "    <tr>\n",
       "      <th>62883</th>\n",
       "      <td>9544</td>\n",
       "      <td>lls asleep by a dumpster, covering himself in ...</td>\n",
       "      <td>thriller</td>\n",
       "    </tr>\n",
       "    <tr>\n",
       "      <th>62884</th>\n",
       "      <td>22221897</td>\n",
       "      <td>.  She accidentally makes eye contact with Wil...</td>\n",
       "      <td>adventure</td>\n",
       "    </tr>\n",
       "  </tbody>\n",
       "</table>\n",
       "</div>"
      ],
      "text/plain": [
       "             id                                               text      genre\n",
       "62875  22221829   artifacts.  CHATTAR LAL  A very fine collecti...  adventure\n",
       "62876   2222351  t. It's a crowd of prisoners in Central  Park....  adventure\n",
       "62877  11111500   A.T.\" PULL BACK to reveal it pinned to Virgil...     action\n",
       "62878      2618  Following it are a half dozen miners' cars. Th...      drama\n",
       "62879  33332046  last lingering  look.  ROB  Can I buy this Oti...     comedy\n",
       "62880   5555890  hat everyone did.  WILLIAM  Bloody hell, I can...    romance\n",
       "62881  44442536  dust and cobwebs are housed behind an iron gri...     horror\n",
       "62882  66661794  't believe  who's in on it.  MARLON  (distract...     sci-fi\n",
       "62883      9544  lls asleep by a dumpster, covering himself in ...   thriller\n",
       "62884  22221897  .  She accidentally makes eye contact with Wil...  adventure"
      ]
     },
     "execution_count": 162,
     "metadata": {},
     "output_type": "execute_result"
    }
   ],
   "source": [
    "train[-10:]"
   ]
  },
  {
   "cell_type": "code",
   "execution_count": 164,
   "metadata": {},
   "outputs": [],
   "source": [
    "newtrain = pd.concat([train, other])"
   ]
  },
  {
   "cell_type": "code",
   "execution_count": 165,
   "metadata": {},
   "outputs": [],
   "source": [
    "from sklearn.utils import shuffle\n",
    "df = shuffle(newtrain)"
   ]
  },
  {
   "cell_type": "code",
   "execution_count": 167,
   "metadata": {},
   "outputs": [
    {
     "data": {
      "text/html": [
       "<div>\n",
       "<style scoped>\n",
       "    .dataframe tbody tr th:only-of-type {\n",
       "        vertical-align: middle;\n",
       "    }\n",
       "\n",
       "    .dataframe tbody tr th {\n",
       "        vertical-align: top;\n",
       "    }\n",
       "\n",
       "    .dataframe thead th {\n",
       "        text-align: right;\n",
       "    }\n",
       "</style>\n",
       "<table border=\"1\" class=\"dataframe\">\n",
       "  <thead>\n",
       "    <tr style=\"text-align: right;\">\n",
       "      <th></th>\n",
       "      <th>id</th>\n",
       "      <th>text</th>\n",
       "      <th>genre</th>\n",
       "    </tr>\n",
       "  </thead>\n",
       "  <tbody>\n",
       "    <tr>\n",
       "      <th>54470</th>\n",
       "      <td>26744</td>\n",
       "      <td>Threepio, Human Cyborg relations, and this is ...</td>\n",
       "      <td>action</td>\n",
       "    </tr>\n",
       "    <tr>\n",
       "      <th>26898</th>\n",
       "      <td>1111365</td>\n",
       "      <td>s rigid salutes with a sour  yeah-right-leave-...</td>\n",
       "      <td>action</td>\n",
       "    </tr>\n",
       "    <tr>\n",
       "      <th>62856</th>\n",
       "      <td>33333321</td>\n",
       "      <td>on the tie and  everything. And can you bring ...</td>\n",
       "      <td>comedy</td>\n",
       "    </tr>\n",
       "    <tr>\n",
       "      <th>55749</th>\n",
       "      <td>55556082</td>\n",
       "      <td>im--a KNOCK on the door and the dog  YAPPING. ...</td>\n",
       "      <td>romance</td>\n",
       "    </tr>\n",
       "    <tr>\n",
       "      <th>7219</th>\n",
       "      <td>22223303</td>\n",
       "      <td>F  Long range communication is  impossible as ...</td>\n",
       "      <td>adventure</td>\n",
       "    </tr>\n",
       "    <tr>\n",
       "      <th>28028</th>\n",
       "      <td>22222437</td>\n",
       "      <td>IPTYCHS FEATURING ALL THE  TITLE CARDS EXCEPT ...</td>\n",
       "      <td>adventure</td>\n",
       "    </tr>\n",
       "    <tr>\n",
       "      <th>7762</th>\n",
       "      <td>44445856</td>\n",
       "      <td>in  hell than serve in heaven.\" Well, I'm  ge...</td>\n",
       "      <td>horror</td>\n",
       "    </tr>\n",
       "    <tr>\n",
       "      <th>60046</th>\n",
       "      <td>66661758</td>\n",
       "      <td>. Truman rushes at the man.  TRUMAN  Leave her...</td>\n",
       "      <td>sci-fi</td>\n",
       "    </tr>\n",
       "    <tr>\n",
       "      <th>43338</th>\n",
       "      <td>33332017</td>\n",
       "      <td>RTMENT STAIRWELL 24  MAX  \"Cutie\"?  CHARLES  T...</td>\n",
       "      <td>comedy</td>\n",
       "    </tr>\n",
       "    <tr>\n",
       "      <th>59802</th>\n",
       "      <td>1176</td>\n",
       "      <td>ession has passed, they're approaching LESLIE ...</td>\n",
       "      <td>drama</td>\n",
       "    </tr>\n",
       "  </tbody>\n",
       "</table>\n",
       "</div>"
      ],
      "text/plain": [
       "             id                                               text      genre\n",
       "54470     26744  Threepio, Human Cyborg relations, and this is ...     action\n",
       "26898   1111365  s rigid salutes with a sour  yeah-right-leave-...     action\n",
       "62856  33333321  on the tie and  everything. And can you bring ...     comedy\n",
       "55749  55556082  im--a KNOCK on the door and the dog  YAPPING. ...    romance\n",
       "7219   22223303  F  Long range communication is  impossible as ...  adventure\n",
       "28028  22222437  IPTYCHS FEATURING ALL THE  TITLE CARDS EXCEPT ...  adventure\n",
       "7762   44445856   in  hell than serve in heaven.\" Well, I'm  ge...     horror\n",
       "60046  66661758  . Truman rushes at the man.  TRUMAN  Leave her...     sci-fi\n",
       "43338  33332017  RTMENT STAIRWELL 24  MAX  \"Cutie\"?  CHARLES  T...     comedy\n",
       "59802      1176  ession has passed, they're approaching LESLIE ...      drama"
      ]
     },
     "execution_count": 167,
     "metadata": {},
     "output_type": "execute_result"
    }
   ],
   "source": [
    "df[:10]"
   ]
  },
  {
   "cell_type": "code",
   "execution_count": 122,
   "metadata": {},
   "outputs": [
    {
     "data": {
      "text/plain": [
       "(62885, 3)"
      ]
     },
     "execution_count": 122,
     "metadata": {},
     "output_type": "execute_result"
    }
   ],
   "source": [
    "df.shape"
   ]
  },
  {
   "cell_type": "code",
   "execution_count": 123,
   "metadata": {},
   "outputs": [],
   "source": [
    "df.to_csv(outpath, index=False)"
   ]
  },
  {
   "cell_type": "code",
   "execution_count": 126,
   "metadata": {},
   "outputs": [],
   "source": [
    "valpath = '/Users/yngtodd/src/kaggle/scene/data/splits/small_val/augmented/val.csv'"
   ]
  },
  {
   "cell_type": "code",
   "execution_count": 127,
   "metadata": {},
   "outputs": [],
   "source": [
    "val = pd.read_csv(valpath)"
   ]
  },
  {
   "cell_type": "code",
   "execution_count": 129,
   "metadata": {},
   "outputs": [
    {
     "data": {
      "text/html": [
       "<div>\n",
       "<style scoped>\n",
       "    .dataframe tbody tr th:only-of-type {\n",
       "        vertical-align: middle;\n",
       "    }\n",
       "\n",
       "    .dataframe tbody tr th {\n",
       "        vertical-align: top;\n",
       "    }\n",
       "\n",
       "    .dataframe thead th {\n",
       "        text-align: right;\n",
       "    }\n",
       "</style>\n",
       "<table border=\"1\" class=\"dataframe\">\n",
       "  <thead>\n",
       "    <tr style=\"text-align: right;\">\n",
       "      <th></th>\n",
       "      <th>id</th>\n",
       "      <th>text</th>\n",
       "      <th>genre</th>\n",
       "      <th>labels</th>\n",
       "    </tr>\n",
       "  </thead>\n",
       "  <tbody>\n",
       "    <tr>\n",
       "      <th>0</th>\n",
       "      <td>19565</td>\n",
       "      <td>tears come. MAC Hey...hey... He starts to hold...</td>\n",
       "      <td>thriller</td>\n",
       "      <td>8</td>\n",
       "    </tr>\n",
       "    <tr>\n",
       "      <th>1</th>\n",
       "      <td>4442</td>\n",
       "      <td>om her wallet. POLLY Searle's Rent a Bike, the...</td>\n",
       "      <td>thriller</td>\n",
       "      <td>8</td>\n",
       "    </tr>\n",
       "    <tr>\n",
       "      <th>2</th>\n",
       "      <td>12125</td>\n",
       "      <td>here stinks of trouble. We should make the be...</td>\n",
       "      <td>thriller</td>\n",
       "      <td>8</td>\n",
       "    </tr>\n",
       "    <tr>\n",
       "      <th>3</th>\n",
       "      <td>5116</td>\n",
       "      <td>with the Japanese kids. Ishmael with his frien...</td>\n",
       "      <td>drama</td>\n",
       "      <td>3</td>\n",
       "    </tr>\n",
       "    <tr>\n",
       "      <th>4</th>\n",
       "      <td>25014</td>\n",
       "      <td>ly, you can give all the credit for Hell to my...</td>\n",
       "      <td>comedy</td>\n",
       "      <td>2</td>\n",
       "    </tr>\n",
       "    <tr>\n",
       "      <th>5</th>\n",
       "      <td>14859</td>\n",
       "      <td>n the roof of my mouth, where nobody could rea...</td>\n",
       "      <td>drama</td>\n",
       "      <td>3</td>\n",
       "    </tr>\n",
       "    <tr>\n",
       "      <th>6</th>\n",
       "      <td>24517</td>\n",
       "      <td>e table Warren Wayne smiles as he listens to t...</td>\n",
       "      <td>action</td>\n",
       "      <td>0</td>\n",
       "    </tr>\n",
       "    <tr>\n",
       "      <th>7</th>\n",
       "      <td>19068</td>\n",
       "      <td>ondition, I was wondering if you would like to...</td>\n",
       "      <td>action</td>\n",
       "      <td>0</td>\n",
       "    </tr>\n",
       "    <tr>\n",
       "      <th>8</th>\n",
       "      <td>26890</td>\n",
       "      <td>s relaxed manner. INT. POLICE CAR There are tw...</td>\n",
       "      <td>drama</td>\n",
       "      <td>3</td>\n",
       "    </tr>\n",
       "    <tr>\n",
       "      <th>9</th>\n",
       "      <td>25162</td>\n",
       "      <td>is. She walks back to the bedroom and closes ...</td>\n",
       "      <td>horror</td>\n",
       "      <td>4</td>\n",
       "    </tr>\n",
       "  </tbody>\n",
       "</table>\n",
       "</div>"
      ],
      "text/plain": [
       "      id                                               text     genre  labels\n",
       "0  19565  tears come. MAC Hey...hey... He starts to hold...  thriller       8\n",
       "1   4442  om her wallet. POLLY Searle's Rent a Bike, the...  thriller       8\n",
       "2  12125   here stinks of trouble. We should make the be...  thriller       8\n",
       "3   5116  with the Japanese kids. Ishmael with his frien...     drama       3\n",
       "4  25014  ly, you can give all the credit for Hell to my...    comedy       2\n",
       "5  14859  n the roof of my mouth, where nobody could rea...     drama       3\n",
       "6  24517  e table Warren Wayne smiles as he listens to t...    action       0\n",
       "7  19068  ondition, I was wondering if you would like to...    action       0\n",
       "8  26890  s relaxed manner. INT. POLICE CAR There are tw...     drama       3\n",
       "9  25162   is. She walks back to the bedroom and closes ...    horror       4"
      ]
     },
     "execution_count": 129,
     "metadata": {},
     "output_type": "execute_result"
    }
   ],
   "source": [
    "val[:10]"
   ]
  },
  {
   "cell_type": "code",
   "execution_count": null,
   "metadata": {},
   "outputs": [],
   "source": []
  }
 ],
 "metadata": {
  "kernelspec": {
   "display_name": "Python 3",
   "language": "python",
   "name": "python3"
  },
  "language_info": {
   "codemirror_mode": {
    "name": "ipython",
    "version": 3
   },
   "file_extension": ".py",
   "mimetype": "text/x-python",
   "name": "python",
   "nbconvert_exporter": "python",
   "pygments_lexer": "ipython3",
   "version": "3.7.1"
  }
 },
 "nbformat": 4,
 "nbformat_minor": 2
}
