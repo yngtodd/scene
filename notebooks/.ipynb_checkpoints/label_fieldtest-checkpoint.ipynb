{
 "cells": [
  {
   "cell_type": "code",
   "execution_count": 1,
   "metadata": {},
   "outputs": [],
   "source": [
    "from scene.data.reader import DataReader\n",
    "from scene.data.tokenizers import spacy_word_tokenizer\n",
    "\n",
    "from allennlp.data.vocabulary import Vocabulary\n",
    "from allennlp.data.iterators import BucketIterator\n",
    "\n",
    "from allennlp.data.token_indexers.elmo_indexer import ELMoTokenCharactersIndexer"
   ]
  },
  {
   "cell_type": "code",
   "execution_count": 2,
   "metadata": {},
   "outputs": [],
   "source": [
    "DATAPATH = '/home/ygx/dev/kaggle/scene/data/splits/small_val/csv/'"
   ]
  },
  {
   "cell_type": "code",
   "execution_count": 3,
   "metadata": {},
   "outputs": [],
   "source": [
    "token_indexer = ELMoTokenCharactersIndexer()\n",
    "\n",
    "reader = DataReader(\n",
    "    tokenizer=spacy_word_tokenizer,\n",
    "    token_indexers={\"tokens\": token_indexer}\n",
    ")\n",
    "\n",
    "iterator = BucketIterator(\n",
    "    batch_size=1,\n",
    "    sorting_keys=[(\"tokens\", \"num_tokens\")]\n",
    ")"
   ]
  },
  {
   "cell_type": "code",
   "execution_count": null,
   "metadata": {},
   "outputs": [
    {
     "name": "stderr",
     "output_type": "stream",
     "text": [
      "14584it [01:14, 205.18it/s]"
     ]
    }
   ],
   "source": [
    "traindata = reader.read(DATAPATH, 'train')"
   ]
  },
  {
   "cell_type": "code",
   "execution_count": null,
   "metadata": {},
   "outputs": [],
   "source": [
    "vocab = Vocabulary.from_instances(traindata)\n",
    "iterator.index_with(vocab)"
   ]
  }
 ],
 "metadata": {
  "kernelspec": {
   "display_name": "Python 3",
   "language": "python",
   "name": "python3"
  },
  "language_info": {
   "codemirror_mode": {
    "name": "ipython",
    "version": 3
   },
   "file_extension": ".py",
   "mimetype": "text/x-python",
   "name": "python",
   "nbconvert_exporter": "python",
   "pygments_lexer": "ipython3",
   "version": "3.6.5"
  }
 },
 "nbformat": 4,
 "nbformat_minor": 2
}
