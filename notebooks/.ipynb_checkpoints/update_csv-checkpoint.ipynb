{
 "cells": [
  {
   "cell_type": "code",
   "execution_count": 23,
   "metadata": {},
   "outputs": [],
   "source": [
    "import os\n",
    "import numpy as np\n",
    "import pandas as pd"
   ]
  },
  {
   "cell_type": "code",
   "execution_count": 4,
   "metadata": {},
   "outputs": [],
   "source": [
    "DATAPATH = '/Users/yngtodd/src/kaggle/scene/data/splits/small_val/csv'\n",
    "TRAINPATH = os.path.join(DATAPATH, 'train.csv')\n",
    "VALPATH = os.path.join(DATAPATH, 'val.csv')\n",
    "TESTPATH = os.path.join(DATAPATH, 'test.csv')"
   ]
  },
  {
   "cell_type": "code",
   "execution_count": 5,
   "metadata": {},
   "outputs": [],
   "source": [
    "train = pd.read_csv(TRAINPATH)\n",
    "val = pd.read_csv(VALPATH)\n",
    "test = pd.read_csv(TESTPATH)"
   ]
  },
  {
   "cell_type": "code",
   "execution_count": 6,
   "metadata": {},
   "outputs": [
    {
     "data": {
      "text/html": [
       "<div>\n",
       "<style scoped>\n",
       "    .dataframe tbody tr th:only-of-type {\n",
       "        vertical-align: middle;\n",
       "    }\n",
       "\n",
       "    .dataframe tbody tr th {\n",
       "        vertical-align: top;\n",
       "    }\n",
       "\n",
       "    .dataframe thead th {\n",
       "        text-align: right;\n",
       "    }\n",
       "</style>\n",
       "<table border=\"1\" class=\"dataframe\">\n",
       "  <thead>\n",
       "    <tr style=\"text-align: right;\">\n",
       "      <th></th>\n",
       "      <th>id</th>\n",
       "      <th>text</th>\n",
       "      <th>genre</th>\n",
       "      <th>labels</th>\n",
       "    </tr>\n",
       "  </thead>\n",
       "  <tbody>\n",
       "    <tr>\n",
       "      <th>0</th>\n",
       "      <td>26123</td>\n",
       "      <td>OICES coming from the living room. INT. LIVING...</td>\n",
       "      <td>thriller</td>\n",
       "      <td>8</td>\n",
       "    </tr>\n",
       "    <tr>\n",
       "      <th>1</th>\n",
       "      <td>15843</td>\n",
       "      <td>n exotic looking container full of dark liquid...</td>\n",
       "      <td>thriller</td>\n",
       "      <td>8</td>\n",
       "    </tr>\n",
       "    <tr>\n",
       "      <th>2</th>\n",
       "      <td>7385</td>\n",
       "      <td>at the board game. DANNY What is this, Staling...</td>\n",
       "      <td>drama</td>\n",
       "      <td>3</td>\n",
       "    </tr>\n",
       "    <tr>\n",
       "      <th>3</th>\n",
       "      <td>17645</td>\n",
       "      <td>ng, sir. I, on the other hand, am in a positio...</td>\n",
       "      <td>thriller</td>\n",
       "      <td>8</td>\n",
       "    </tr>\n",
       "    <tr>\n",
       "      <th>4</th>\n",
       "      <td>25175</td>\n",
       "      <td>e how in the count room nobody ever seems to s...</td>\n",
       "      <td>drama</td>\n",
       "      <td>3</td>\n",
       "    </tr>\n",
       "  </tbody>\n",
       "</table>\n",
       "</div>"
      ],
      "text/plain": [
       "      id                                               text     genre  labels\n",
       "0  26123  OICES coming from the living room. INT. LIVING...  thriller       8\n",
       "1  15843  n exotic looking container full of dark liquid...  thriller       8\n",
       "2   7385  at the board game. DANNY What is this, Staling...     drama       3\n",
       "3  17645  ng, sir. I, on the other hand, am in a positio...  thriller       8\n",
       "4  25175  e how in the count room nobody ever seems to s...     drama       3"
      ]
     },
     "execution_count": 6,
     "metadata": {},
     "output_type": "execute_result"
    }
   ],
   "source": [
    "train[0:5]"
   ]
  },
  {
   "cell_type": "code",
   "execution_count": 8,
   "metadata": {},
   "outputs": [],
   "source": [
    "OUTPATH = '/Users/yngtodd/src/kaggle/scene/data/splits/small_val/sans_header'\n",
    "OUTTRAIN = os.path.join(OUTPATH, 'train.csv')\n",
    "OUTVAL = os.path.join(OUTPATH, 'val.csv')\n",
    "OUTTEST = os.path.join(OUTPATH, 'test.csv')"
   ]
  },
  {
   "cell_type": "code",
   "execution_count": 9,
   "metadata": {},
   "outputs": [],
   "source": [
    "train.to_csv(OUTTRAIN, index=False, header=False)\n",
    "val.to_csv(OUTVAL, index=False, header=False)\n",
    "test.to_csv(OUTTEST, index=False, header=False)"
   ]
  },
  {
   "cell_type": "code",
   "execution_count": 16,
   "metadata": {},
   "outputs": [],
   "source": [
    "train = pd.read_csv(OUTTRAIN, header=None)"
   ]
  },
  {
   "cell_type": "code",
   "execution_count": 21,
   "metadata": {},
   "outputs": [],
   "source": [
    "genres = train[:][2].values"
   ]
  },
  {
   "cell_type": "code",
   "execution_count": 24,
   "metadata": {},
   "outputs": [],
   "source": [
    "unique, counts = np.unique(genres, return_counts=True)"
   ]
  },
  {
   "cell_type": "code",
   "execution_count": 25,
   "metadata": {},
   "outputs": [
    {
     "data": {
      "text/plain": [
       "array(['action', 'adventure', 'comedy', 'drama', 'horror', 'other',\n",
       "       'romance', 'sci-fi', 'thriller'], dtype=object)"
      ]
     },
     "execution_count": 25,
     "metadata": {},
     "output_type": "execute_result"
    }
   ],
   "source": [
    "unique"
   ]
  },
  {
   "cell_type": "code",
   "execution_count": null,
   "metadata": {},
   "outputs": [],
   "source": []
  }
 ],
 "metadata": {
  "kernelspec": {
   "display_name": "Python 3",
   "language": "python",
   "name": "python3"
  },
  "language_info": {
   "codemirror_mode": {
    "name": "ipython",
    "version": 3
   },
   "file_extension": ".py",
   "mimetype": "text/x-python",
   "name": "python",
   "nbconvert_exporter": "python",
   "pygments_lexer": "ipython3",
   "version": "3.7.1"
  }
 },
 "nbformat": 4,
 "nbformat_minor": 2
}
