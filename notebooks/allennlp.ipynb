{
 "cells": [
  {
   "cell_type": "code",
   "execution_count": 1,
   "metadata": {},
   "outputs": [],
   "source": [
    "from scene.data.reader import DataReader\n",
    "from scene.data.tokenizers import spacy_word_tokenizer\n",
    "\n",
    "from allennlp.data.vocabulary import Vocabulary\n",
    "from allennlp.data.token_indexers.elmo_indexer import ELMoTokenCharactersIndexer\n",
    "\n",
    "from allennlp.data.iterators import BucketIterator"
   ]
  },
  {
   "cell_type": "code",
   "execution_count": 6,
   "metadata": {},
   "outputs": [],
   "source": [
    "DATAPATH = '/home/ygx/dev/kaggle/scene/data/splits/small_val/csv'"
   ]
  },
  {
   "cell_type": "code",
   "execution_count": 7,
   "metadata": {},
   "outputs": [],
   "source": [
    "token_indexer = ELMoTokenCharactersIndexer()"
   ]
  },
  {
   "cell_type": "code",
   "execution_count": 8,
   "metadata": {},
   "outputs": [],
   "source": [
    "reader = DataReader(\n",
    "    tokenizer=spacy_word_tokenizer,\n",
    "    token_indexers={\"tokens\": token_indexer}\n",
    ")"
   ]
  },
  {
   "cell_type": "code",
   "execution_count": 9,
   "metadata": {
    "scrolled": true
   },
   "outputs": [
    {
     "name": "stderr",
     "output_type": "stream",
     "text": [
      "\n",
      "0it [00:00, ?it/s]\u001b[A\n",
      "1it [00:00,  3.08it/s]\u001b[A\n",
      "20it [00:00,  4.38it/s]\u001b[A\n",
      "39it [00:00,  6.19it/s]\u001b[A\n",
      "58it [00:00,  8.72it/s]\u001b[A\n",
      "78it [00:00, 12.22it/s]\u001b[A\n",
      "97it [00:00, 16.98it/s]\u001b[A\n",
      "116it [00:00, 23.34it/s]\u001b[A\n",
      "135it [00:01, 31.59it/s]\u001b[A\n",
      "154it [00:01, 42.12it/s]\u001b[A\n",
      "173it [00:01, 54.87it/s]\u001b[A\n",
      "191it [00:01, 64.08it/s]\u001b[A\n",
      "209it [00:01, 79.40it/s]\u001b[A\n",
      "227it [00:01, 95.27it/s]\u001b[A\n",
      "246it [00:01, 111.77it/s]\u001b[A\n",
      "265it [00:01, 126.49it/s]\u001b[A\n",
      "284it [00:01, 140.37it/s]\u001b[A\n",
      "304it [00:02, 152.63it/s]\u001b[A\n",
      "323it [00:02, 161.44it/s]\u001b[A\n",
      "342it [00:02, 168.03it/s]\u001b[A\n",
      "361it [00:02, 172.32it/s]\u001b[A\n",
      "381it [00:02, 177.72it/s]\u001b[A\n",
      "401it [00:02, 181.66it/s]\u001b[A\n",
      "421it [00:02, 184.55it/s]\u001b[A\n",
      "441it [00:02, 188.30it/s]\u001b[A\n",
      "461it [00:02, 187.28it/s]\u001b[A\n",
      "480it [00:03, 148.86it/s]\u001b[A\n",
      "499it [00:03, 157.39it/s]\u001b[A\n",
      "517it [00:03, 162.96it/s]\u001b[A\n",
      "535it [00:03, 167.44it/s]\u001b[A\n",
      "553it [00:03, 170.26it/s]\u001b[A\n",
      "573it [00:03, 176.20it/s]\u001b[A\n",
      "592it [00:03, 177.91it/s]\u001b[A\n",
      "612it [00:03, 182.36it/s]\u001b[A\n",
      "632it [00:03, 185.22it/s]\u001b[A\n",
      "651it [00:03, 185.21it/s]\u001b[A\n",
      "671it [00:04, 187.77it/s]\u001b[A\n",
      "691it [00:04, 190.14it/s]\u001b[A\n",
      "711it [00:04, 191.13it/s]\u001b[A\n",
      "731it [00:04, 191.25it/s]\u001b[A\n",
      "751it [00:04, 191.56it/s]\u001b[A\n",
      "771it [00:04, 191.87it/s]\u001b[A\n",
      "791it [00:04, 192.09it/s]\u001b[A\n",
      "811it [00:04, 191.37it/s]\u001b[A\n",
      "831it [00:04, 153.28it/s]\u001b[A\n",
      "851it [00:05, 163.62it/s]\u001b[A\n",
      "871it [00:05, 171.37it/s]\u001b[A\n",
      "891it [00:05, 177.59it/s]\u001b[A\n",
      "911it [00:05, 182.03it/s]\u001b[A\n",
      "931it [00:05, 185.25it/s]\u001b[A\n",
      "951it [00:05, 188.28it/s]\u001b[A\n",
      "971it [00:05, 189.97it/s]\u001b[A\n",
      "991it [00:05, 190.99it/s]\u001b[A\n",
      "1011it [00:05, 191.71it/s]\u001b[A\n",
      "1031it [00:06, 192.73it/s]\u001b[A\n",
      "1051it [00:06, 193.41it/s]\u001b[A\n",
      "1071it [00:06, 193.76it/s]\u001b[A\n",
      "1091it [00:06, 192.06it/s]\u001b[A\n",
      "1111it [00:06, 191.82it/s]\u001b[A\n",
      "1131it [00:06, 191.75it/s]\u001b[A\n",
      "1151it [00:06, 190.50it/s]\u001b[A\n",
      "1171it [00:06, 191.08it/s]\u001b[A\n",
      "1191it [00:06, 190.06it/s]\u001b[A\n",
      "1211it [00:06, 190.60it/s]\u001b[A\n",
      "1231it [00:07, 190.17it/s]\u001b[A\n",
      "1251it [00:07, 191.91it/s]\u001b[A\n",
      "1271it [00:07, 150.27it/s]\u001b[A\n",
      "1291it [00:07, 160.49it/s]\u001b[A\n",
      "1310it [00:07, 167.69it/s]\u001b[A\n",
      "1330it [00:07, 175.50it/s]\u001b[A\n",
      "1349it [00:07, 174.89it/s]\u001b[A\n",
      "1368it [00:07, 170.92it/s]\u001b[A\n",
      "1386it [00:08, 164.38it/s]\u001b[A\n",
      "1403it [00:08, 160.76it/s]\u001b[A\n",
      "1421it [00:08, 165.77it/s]\u001b[A\n",
      "1441it [00:08, 174.16it/s]\u001b[A\n",
      "1461it [00:08, 179.34it/s]\u001b[A\n",
      "1480it [00:08, 179.64it/s]\u001b[A\n",
      "1499it [00:08, 171.80it/s]\u001b[A\n",
      "1517it [00:08, 170.67it/s]\u001b[A\n",
      "1537it [00:08, 177.37it/s]\u001b[A\n",
      "1557it [00:08, 182.51it/s]\u001b[A\n",
      "1577it [00:09, 185.19it/s]\u001b[A\n",
      "1598it [00:09, 189.74it/s]\u001b[A\n",
      "1618it [00:09, 192.13it/s]\u001b[A\n",
      "1639it [00:09, 194.45it/s]\u001b[A\n",
      "1659it [00:09, 195.56it/s]\u001b[A\n",
      "1680it [00:09, 197.09it/s]\u001b[A\n",
      "1700it [00:09, 196.48it/s]\u001b[A\n",
      "1720it [00:09, 195.49it/s]\u001b[A\n",
      "1740it [00:09, 192.17it/s]\u001b[A\n",
      "1760it [00:10, 189.16it/s]\u001b[A\n",
      "1779it [00:10, 188.36it/s]\u001b[A\n",
      "1798it [00:10, 186.72it/s]\u001b[A\n",
      "1817it [00:10, 140.64it/s]\u001b[A\n",
      "1837it [00:10, 152.73it/s]\u001b[A\n",
      "1856it [00:10, 160.66it/s]\u001b[A\n",
      "1875it [00:10, 168.38it/s]\u001b[A\n",
      "1895it [00:10, 175.39it/s]\u001b[A\n",
      "1915it [00:10, 180.47it/s]\u001b[A\n",
      "1934it [00:11, 182.21it/s]\u001b[A\n",
      "1954it [00:11, 185.18it/s]\u001b[A\n",
      "1974it [00:11, 188.27it/s]\u001b[A\n",
      "1995it [00:11, 191.95it/s]\u001b[A\n",
      "2015it [00:11, 192.09it/s]\u001b[A\n",
      "2035it [00:11, 187.30it/s]\u001b[A\n",
      "2055it [00:11, 189.12it/s]\u001b[A\n",
      "2074it [00:11, 188.36it/s]\u001b[A\n",
      "2094it [00:11, 189.71it/s]\u001b[A\n",
      "2114it [00:12, 192.52it/s]\u001b[A\n",
      "2134it [00:12, 193.01it/s]\u001b[A\n",
      "2154it [00:12, 193.52it/s]\u001b[A\n",
      "2174it [00:12, 192.16it/s]\u001b[A\n",
      "2194it [00:12, 192.22it/s]\u001b[A\n",
      "2214it [00:12, 192.40it/s]\u001b[A\n",
      "2234it [00:12, 193.79it/s]\u001b[A\n",
      "2254it [00:12, 194.51it/s]\u001b[A\n",
      "2274it [00:12, 194.64it/s]\u001b[A\n",
      "2295it [00:12, 196.51it/s]\u001b[A\n",
      "2315it [00:13, 195.70it/s]\u001b[A\n",
      "2335it [00:13, 193.37it/s]\u001b[A\n",
      "2355it [00:13, 193.88it/s]\u001b[A\n",
      "2375it [00:13, 193.80it/s]\u001b[A\n",
      "2395it [00:13, 193.95it/s]\u001b[A\n",
      "2415it [00:13, 193.81it/s]\u001b[A\n",
      "2435it [00:13, 193.49it/s]\u001b[A\n",
      "2455it [00:13, 193.73it/s]\u001b[A\n",
      "2475it [00:13, 190.90it/s]\u001b[A\n",
      "2495it [00:14, 140.14it/s]\u001b[A\n",
      "2514it [00:14, 150.80it/s]\u001b[A\n",
      "2533it [00:14, 159.80it/s]\u001b[A\n",
      "2553it [00:14, 168.73it/s]\u001b[A\n",
      "2573it [00:14, 175.18it/s]\u001b[A\n",
      "2592it [00:14, 177.80it/s]\u001b[A\n",
      "2611it [00:14, 179.31it/s]\u001b[A\n",
      "2630it [00:14, 180.91it/s]\u001b[A\n",
      "2650it [00:14, 184.64it/s]\u001b[A\n",
      "2669it [00:15, 183.90it/s]\u001b[A\n",
      "2688it [00:15, 183.25it/s]\u001b[A\n",
      "2707it [00:15, 182.92it/s]\u001b[A\n",
      "2726it [00:15, 183.95it/s]\u001b[A\n",
      "2745it [00:15, 184.62it/s]\u001b[A\n",
      "2764it [00:15, 185.25it/s]\u001b[A\n",
      "2783it [00:15, 186.64it/s]\u001b[A\n",
      "2803it [00:15, 189.32it/s]\u001b[A\n",
      "2823it [00:15, 190.63it/s]\u001b[A\n",
      "2843it [00:15, 190.94it/s]\u001b[A\n",
      "2863it [00:16, 192.03it/s]\u001b[A\n",
      "2883it [00:16, 189.09it/s]\u001b[A\n",
      "2902it [00:16, 189.03it/s]\u001b[A\n",
      "2922it [00:16, 189.84it/s]\u001b[A\n",
      "2942it [00:16, 190.29it/s]\u001b[A\n",
      "2962it [00:16, 190.46it/s]\u001b[A\n",
      "2982it [00:16, 192.28it/s]\u001b[A\n",
      "3002it [00:16, 192.22it/s]\u001b[A\n",
      "3022it [00:16, 193.06it/s]\u001b[A\n",
      "3042it [00:16, 192.59it/s]\u001b[A\n",
      "3062it [00:17, 191.93it/s]\u001b[A\n",
      "3082it [00:17, 192.47it/s]\u001b[A\n",
      "3102it [00:17, 192.89it/s]\u001b[A\n",
      "3122it [00:17, 193.22it/s]\u001b[A\n",
      "3142it [00:17, 191.40it/s]\u001b[A\n",
      "3162it [00:17, 190.49it/s]\u001b[A\n",
      "3182it [00:17, 190.54it/s]\u001b[A\n",
      "3202it [00:17, 192.32it/s]\u001b[A\n",
      "3222it [00:17, 193.01it/s]\u001b[A\n",
      "3242it [00:18, 193.01it/s]\u001b[A\n",
      "3262it [00:18, 193.39it/s]\u001b[A\n",
      "3282it [00:18, 193.23it/s]\u001b[A\n",
      "3302it [00:18, 193.78it/s]\u001b[A\n",
      "3322it [00:18, 195.40it/s]\u001b[A\n",
      "3342it [00:18, 138.62it/s]\u001b[A\n",
      "3362it [00:18, 152.66it/s]\u001b[A\n",
      "3382it [00:18, 163.56it/s]\u001b[A\n",
      "3402it [00:18, 172.66it/s]\u001b[A\n",
      "3422it [00:19, 179.27it/s]\u001b[A\n",
      "3442it [00:19, 184.13it/s]\u001b[A\n",
      "3462it [00:19, 188.24it/s]\u001b[A\n",
      "3482it [00:19, 190.66it/s]\u001b[A\n",
      "3502it [00:19, 193.15it/s]\u001b[A\n",
      "3522it [00:19, 192.97it/s]\u001b[A\n",
      "3542it [00:19, 194.13it/s]\u001b[A\n",
      "3562it [00:19, 194.23it/s]\u001b[A\n",
      "3582it [00:19, 193.72it/s]\u001b[A\n",
      "3602it [00:20, 195.20it/s]\u001b[A\n",
      "3622it [00:20, 195.63it/s]\u001b[A\n",
      "3642it [00:20, 196.42it/s]\u001b[A\n",
      "3662it [00:20, 195.49it/s]\u001b[A\n",
      "3682it [00:20, 195.16it/s]\u001b[A\n",
      "3702it [00:20, 190.72it/s]\u001b[A\n",
      "3722it [00:20, 186.75it/s]\u001b[A\n",
      "3741it [00:20, 182.43it/s]\u001b[A\n",
      "3760it [00:20, 182.91it/s]\u001b[A\n",
      "3779it [00:20, 183.73it/s]\u001b[A\n",
      "3798it [00:21, 183.92it/s]\u001b[A\n",
      "3818it [00:21, 185.97it/s]\u001b[A\n",
      "3838it [00:21, 187.98it/s]\u001b[A\n",
      "3857it [00:21, 188.34it/s]\u001b[A\n",
      "3877it [00:21, 189.73it/s]\u001b[A\n",
      "3897it [00:21, 190.76it/s]\u001b[A\n",
      "3917it [00:21, 192.44it/s]\u001b[A\n",
      "3937it [00:21, 192.66it/s]\u001b[A\n",
      "3957it [00:21, 194.21it/s]\u001b[A\n",
      "3977it [00:21, 193.24it/s]\u001b[A\n",
      "3997it [00:22, 193.12it/s]\u001b[A\n",
      "4017it [00:22, 194.97it/s]\u001b[A\n",
      "4037it [00:22, 194.38it/s]\u001b[A\n",
      "4057it [00:22, 195.49it/s]\u001b[A\n",
      "4077it [00:22, 194.66it/s]\u001b[A\n",
      "4097it [00:22, 193.95it/s]\u001b[A\n",
      "4117it [00:22, 194.73it/s]\u001b[A\n",
      "4137it [00:22, 194.75it/s]\u001b[A\n",
      "4157it [00:22, 192.22it/s]\u001b[A\n",
      "4177it [00:23, 193.02it/s]\u001b[A\n",
      "4197it [00:23, 193.44it/s]\u001b[A\n",
      "4217it [00:23, 194.33it/s]\u001b[A\n",
      "4237it [00:23, 183.76it/s]\u001b[A\n",
      "4257it [00:23, 186.67it/s]\u001b[A\n",
      "4277it [00:23, 188.14it/s]\u001b[A\n",
      "4297it [00:23, 190.20it/s]\u001b[A\n",
      "4317it [00:23, 191.70it/s]\u001b[A\n",
      "4337it [00:23, 192.61it/s]\u001b[A\n",
      "4357it [00:23, 192.20it/s]\u001b[A\n",
      "4377it [00:24, 193.17it/s]\u001b[A\n",
      "4397it [00:24, 132.97it/s]\u001b[A\n",
      "4417it [00:24, 146.68it/s]\u001b[A\n",
      "4437it [00:24, 158.34it/s]\u001b[A\n",
      "4456it [00:24, 165.40it/s]\u001b[A\n",
      "4476it [00:24, 172.82it/s]\u001b[A\n",
      "4496it [00:24, 178.77it/s]\u001b[A\n",
      "4516it [00:24, 183.94it/s]\u001b[A\n",
      "4536it [00:25, 186.74it/s]\u001b[A\n",
      "4556it [00:25, 188.52it/s]\u001b[A\n",
      "4576it [00:25, 189.85it/s]\u001b[A\n",
      "4596it [00:25, 190.16it/s]\u001b[A\n",
      "4616it [00:25, 191.19it/s]\u001b[A\n",
      "4636it [00:25, 192.69it/s]\u001b[A\n",
      "4656it [00:25, 193.05it/s]\u001b[A\n",
      "4676it [00:25, 193.64it/s]\u001b[A\n",
      "4696it [00:25, 193.95it/s]\u001b[A\n",
      "4716it [00:25, 193.43it/s]\u001b[A\n",
      "4736it [00:26, 194.30it/s]\u001b[A\n",
      "4756it [00:26, 193.42it/s]\u001b[A\n",
      "4776it [00:26, 194.21it/s]\u001b[A\n",
      "4796it [00:26, 193.40it/s]\u001b[A\n",
      "4816it [00:26, 193.14it/s]\u001b[A\n",
      "4836it [00:26, 194.60it/s]\u001b[A\n",
      "4856it [00:26, 195.22it/s]\u001b[A\n",
      "4876it [00:26, 191.96it/s]\u001b[A\n",
      "4896it [00:26, 190.51it/s]\u001b[A\n",
      "4916it [00:27, 191.18it/s]\u001b[A\n",
      "4936it [00:27, 191.64it/s]\u001b[A\n",
      "4956it [00:27, 191.71it/s]\u001b[A\n",
      "4976it [00:27, 193.01it/s]\u001b[A\n",
      "4996it [00:27, 193.28it/s]\u001b[A\n",
      "5016it [00:27, 192.36it/s]\u001b[A\n",
      "5036it [00:27, 192.06it/s]\u001b[A\n",
      "5056it [00:27, 191.98it/s]\u001b[A\n",
      "5076it [00:27, 193.02it/s]\u001b[A\n",
      "5096it [00:27, 193.26it/s]\u001b[A\n",
      "5116it [00:28, 193.62it/s]\u001b[A\n",
      "5136it [00:28, 193.74it/s]\u001b[A\n",
      "5156it [00:28, 192.48it/s]\u001b[A\n",
      "5176it [00:28, 191.29it/s]\u001b[A\n",
      "5196it [00:28, 192.17it/s]\u001b[A\n",
      "5216it [00:28, 192.07it/s]\u001b[A\n",
      "5236it [00:28, 192.53it/s]\u001b[A\n",
      "5256it [00:28, 192.23it/s]\u001b[A\n",
      "5276it [00:28, 191.90it/s]\u001b[A\n",
      "5296it [00:28, 192.00it/s]\u001b[A\n",
      "5316it [00:29, 192.20it/s]\u001b[A\n",
      "5336it [00:29, 191.98it/s]\u001b[A\n",
      "5356it [00:29, 192.47it/s]\u001b[A\n",
      "5376it [00:29, 192.85it/s]\u001b[A\n",
      "5396it [00:29, 193.20it/s]\u001b[A\n"
     ]
    },
    {
     "name": "stderr",
     "output_type": "stream",
     "text": [
      "5416it [00:29, 192.93it/s]\u001b[A\n",
      "5436it [00:29, 194.51it/s]\u001b[A\n",
      "5456it [00:29, 195.00it/s]\u001b[A\n",
      "5476it [00:29, 194.73it/s]\u001b[A\n",
      "5496it [00:30, 195.84it/s]\u001b[A\n",
      "5517it [00:30, 197.09it/s]\u001b[A\n",
      "5537it [00:30, 197.52it/s]\u001b[A\n",
      "5557it [00:30, 198.05it/s]\u001b[A\n",
      "5577it [00:30, 196.95it/s]\u001b[A\n",
      "5589it [00:30, 183.32it/s]\u001b[A"
     ]
    }
   ],
   "source": [
    "testdata = reader.read(DATAPATH, 'test')"
   ]
  },
  {
   "cell_type": "code",
   "execution_count": 11,
   "metadata": {},
   "outputs": [
    {
     "data": {
      "text/plain": [
       "5589"
      ]
     },
     "execution_count": 11,
     "metadata": {},
     "output_type": "execute_result"
    }
   ],
   "source": [
    "len(testdata)"
   ]
  },
  {
   "cell_type": "code",
   "execution_count": 7,
   "metadata": {},
   "outputs": [],
   "source": [
    "#vars(testdata[0].fields[\"tokens\"])"
   ]
  },
  {
   "cell_type": "code",
   "execution_count": 12,
   "metadata": {},
   "outputs": [],
   "source": [
    "vocab = Vocabulary()"
   ]
  },
  {
   "cell_type": "code",
   "execution_count": 13,
   "metadata": {},
   "outputs": [
    {
     "data": {
      "text/plain": [
       "Vocabulary with namespaces:  Non Padded Namespaces: {'*labels', '*tags'}"
      ]
     },
     "execution_count": 13,
     "metadata": {},
     "output_type": "execute_result"
    }
   ],
   "source": [
    "vocab"
   ]
  },
  {
   "cell_type": "code",
   "execution_count": 18,
   "metadata": {},
   "outputs": [],
   "source": [
    "iterator = BucketIterator(\n",
    "    batch_size=64, \n",
    "    sorting_keys=[(\"tokens\", \"num_tokens\")],\n",
    ")"
   ]
  },
  {
   "cell_type": "code",
   "execution_count": 19,
   "metadata": {},
   "outputs": [],
   "source": [
    "iterator.index_with(vocab)"
   ]
  },
  {
   "cell_type": "code",
   "execution_count": 21,
   "metadata": {},
   "outputs": [],
   "source": [
    "batch = next(iter(iterator(testdata)))"
   ]
  },
  {
   "cell_type": "code",
   "execution_count": 10,
   "metadata": {},
   "outputs": [],
   "source": [
    "#batch"
   ]
  },
  {
   "cell_type": "code",
   "execution_count": 23,
   "metadata": {},
   "outputs": [
    {
     "data": {
      "text/plain": [
       "torch.Size([64, 239, 50])"
      ]
     },
     "execution_count": 23,
     "metadata": {},
     "output_type": "execute_result"
    }
   ],
   "source": [
    "batch[\"tokens\"][\"tokens\"].shape"
   ]
  },
  {
   "cell_type": "code",
   "execution_count": null,
   "metadata": {},
   "outputs": [],
   "source": []
  }
 ],
 "metadata": {
  "kernelspec": {
   "display_name": "Python 3",
   "language": "python",
   "name": "python3"
  },
  "language_info": {
   "codemirror_mode": {
    "name": "ipython",
    "version": 3
   },
   "file_extension": ".py",
   "mimetype": "text/x-python",
   "name": "python",
   "nbconvert_exporter": "python",
   "pygments_lexer": "ipython3",
   "version": "3.6.5"
  }
 },
 "nbformat": 4,
 "nbformat_minor": 2
}
