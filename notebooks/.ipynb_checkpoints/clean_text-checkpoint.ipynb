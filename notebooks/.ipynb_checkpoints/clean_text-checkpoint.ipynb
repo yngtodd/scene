{
 "cells": [
  {
   "cell_type": "code",
   "execution_count": 1,
   "metadata": {},
   "outputs": [],
   "source": [
    "import os\n",
    "import pandas as pd\n",
    "\n",
    "import nltk                                         #Natural language processing tool-kit\n",
    "from nltk.corpus import stopwords                   #Stopwords corpus\n",
    "from nltk.stem import PorterStemmer   \n",
    "\n",
    "from scene.data.preprocessing.preprocess import clean_special_chars, clean_numbers"
   ]
  },
  {
   "cell_type": "code",
   "execution_count": 2,
   "metadata": {},
   "outputs": [],
   "source": [
    "DATAPATH = '/Users/yngtodd/src/kaggle/scene/data/splits/small_val/csv'\n",
    "trainpath = os.path.join(DATAPATH, 'train.csv')\n",
    "valpath = os.path.join(DATAPATH, 'val.csv')\n",
    "testpath = os.path.join(DATAPATH, 'test.csv')"
   ]
  },
  {
   "cell_type": "code",
   "execution_count": 3,
   "metadata": {},
   "outputs": [],
   "source": [
    "train = pd.read_csv(trainpath)\n",
    "val = pd.read_csv(valpath)\n",
    "test = pd.read_csv(testpath)"
   ]
  },
  {
   "cell_type": "code",
   "execution_count": 4,
   "metadata": {},
   "outputs": [
    {
     "data": {
      "text/html": [
       "<div>\n",
       "<style scoped>\n",
       "    .dataframe tbody tr th:only-of-type {\n",
       "        vertical-align: middle;\n",
       "    }\n",
       "\n",
       "    .dataframe tbody tr th {\n",
       "        vertical-align: top;\n",
       "    }\n",
       "\n",
       "    .dataframe thead th {\n",
       "        text-align: right;\n",
       "    }\n",
       "</style>\n",
       "<table border=\"1\" class=\"dataframe\">\n",
       "  <thead>\n",
       "    <tr style=\"text-align: right;\">\n",
       "      <th></th>\n",
       "      <th>id</th>\n",
       "      <th>text</th>\n",
       "      <th>genre</th>\n",
       "      <th>labels</th>\n",
       "    </tr>\n",
       "  </thead>\n",
       "  <tbody>\n",
       "    <tr>\n",
       "      <th>0</th>\n",
       "      <td>26123</td>\n",
       "      <td>OICES coming from the living room. INT. LIVING...</td>\n",
       "      <td>thriller</td>\n",
       "      <td>8</td>\n",
       "    </tr>\n",
       "    <tr>\n",
       "      <th>1</th>\n",
       "      <td>15843</td>\n",
       "      <td>n exotic looking container full of dark liquid...</td>\n",
       "      <td>thriller</td>\n",
       "      <td>8</td>\n",
       "    </tr>\n",
       "    <tr>\n",
       "      <th>2</th>\n",
       "      <td>7385</td>\n",
       "      <td>at the board game. DANNY What is this, Staling...</td>\n",
       "      <td>drama</td>\n",
       "      <td>3</td>\n",
       "    </tr>\n",
       "    <tr>\n",
       "      <th>3</th>\n",
       "      <td>17645</td>\n",
       "      <td>ng, sir. I, on the other hand, am in a positio...</td>\n",
       "      <td>thriller</td>\n",
       "      <td>8</td>\n",
       "    </tr>\n",
       "    <tr>\n",
       "      <th>4</th>\n",
       "      <td>25175</td>\n",
       "      <td>e how in the count room nobody ever seems to s...</td>\n",
       "      <td>drama</td>\n",
       "      <td>3</td>\n",
       "    </tr>\n",
       "  </tbody>\n",
       "</table>\n",
       "</div>"
      ],
      "text/plain": [
       "      id                                               text     genre  labels\n",
       "0  26123  OICES coming from the living room. INT. LIVING...  thriller       8\n",
       "1  15843  n exotic looking container full of dark liquid...  thriller       8\n",
       "2   7385  at the board game. DANNY What is this, Staling...     drama       3\n",
       "3  17645  ng, sir. I, on the other hand, am in a positio...  thriller       8\n",
       "4  25175  e how in the count room nobody ever seems to s...     drama       3"
      ]
     },
     "execution_count": 4,
     "metadata": {},
     "output_type": "execute_result"
    }
   ],
   "source": [
    "train[0:5]"
   ]
  },
  {
   "cell_type": "code",
   "execution_count": 5,
   "metadata": {},
   "outputs": [],
   "source": [
    "train['text'] = train['text'].str.lower()"
   ]
  },
  {
   "cell_type": "code",
   "execution_count": 6,
   "metadata": {},
   "outputs": [],
   "source": [
    "# def clean_text(df):\n",
    "#     for i, row in df.iterrows():\n",
    "#         row "
   ]
  },
  {
   "cell_type": "code",
   "execution_count": 7,
   "metadata": {},
   "outputs": [
    {
     "data": {
      "text/plain": [
       "1000"
      ]
     },
     "execution_count": 7,
     "metadata": {},
     "output_type": "execute_result"
    }
   ],
   "source": [
    "len(train['text'][2])"
   ]
  },
  {
   "cell_type": "code",
   "execution_count": 8,
   "metadata": {},
   "outputs": [
    {
     "name": "stdout",
     "output_type": "stream",
     "text": [
      "{\"mightn't\", 'aren', 'hadn', 'a', 'don', 'hers', 'the', 'why', 'mustn', \"hasn't\", 'is', 'had', 'in', 'about', \"wasn't\", 'as', 'ours', \"that'll\", 'during', 'doesn', \"mustn't\", 'was', 'has', 'against', 'off', 'won', 'then', \"shouldn't\", \"haven't\", 'did', \"you'd\", 'down', 'once', 'through', 'yourself', 'those', 'its', \"wouldn't\", 'does', 'our', 'only', 'when', \"you've\", 'these', 'are', 'o', 'myself', \"should've\", 'them', 'he', 'where', 'm', 'most', 'itself', 'not', 'ma', 'wouldn', 'which', 'with', 'any', 'be', 'having', 'you', 'yours', 'to', 'own', 'under', \"doesn't\", 'while', 'how', 'both', 'nor', 'over', \"you're\", 'yourselves', 's', 'or', 'here', 'and', \"isn't\", 've', 'couldn', 'y', 'mightn', \"won't\", 'we', \"it's\", 'doing', 'at', 'me', 'of', 'there', 'himself', 'because', \"shan't\", 'just', 'for', 'haven', 'an', 'few', 'have', 'needn', 'same', 'hasn', 'were', 'didn', \"hadn't\", 'shan', 'what', 'themselves', 'shouldn', 'other', 'too', 'up', 'from', 'his', 'before', 'more', 'isn', 'theirs', 'on', 'above', 'ain', \"didn't\", 'am', 'their', 'after', 're', 'by', 'being', 'each', 'should', \"aren't\", 'd', 'she', \"weren't\", 'whom', \"needn't\", 'they', 'your', \"she's\", 'such', 'if', 'further', 'below', 't', 'it', 'can', 'him', 'her', 'wasn', \"you'll\", 'all', 'into', 'so', 'my', 'who', 'this', 'but', 'will', 'i', 'weren', 'now', 'out', 'no', 'again', 'been', 'until', 'between', 'herself', \"don't\", \"couldn't\", 'do', 'ourselves', 'that', 'some', 'than', 'very', 'll'}\n"
     ]
    }
   ],
   "source": [
    "stop = set(stopwords.words('english')) \n",
    "print(stop)"
   ]
  },
  {
   "cell_type": "code",
   "execution_count": 9,
   "metadata": {},
   "outputs": [],
   "source": [
    "text = train['text']"
   ]
  },
  {
   "cell_type": "code",
   "execution_count": 39,
   "metadata": {},
   "outputs": [],
   "source": [
    "import re\n",
    "\n",
    "def clean(text):\n",
    "    temp =[]\n",
    "    snow = nltk.stem.SnowballStemmer('english')\n",
    "    for sentence in text:\n",
    "        sentence = sentence.lower()                 # Converting to lowercase\n",
    "        cleanr = re.compile('<.*?>')\n",
    "        sentence = re.sub(cleanr, ' ', sentence)        #Removing HTML tags\n",
    "        sentence = re.sub(r'[?|!|\\'|\"|#]',r'',sentence)\n",
    "        sentence = re.sub(r'[.|,|)|(|\\|/]',r' ',sentence)        #Removing Punctuations\n",
    "\n",
    "        words = [snow.stem(word) for word in sentence.split() if word not in stopwords.words('english')]   # Stemming and removing stopwords\n",
    "        temp.append(words)\n",
    "\n",
    "    text = []\n",
    "    for sentence in temp:\n",
    "        text.append(' '.join(sentence))\n",
    "        \n",
    "    return text"
   ]
  },
  {
   "cell_type": "code",
   "execution_count": 15,
   "metadata": {},
   "outputs": [],
   "source": [
    "train['text'] = text"
   ]
  },
  {
   "cell_type": "code",
   "execution_count": 16,
   "metadata": {},
   "outputs": [
    {
     "data": {
      "text/html": [
       "<div>\n",
       "<style scoped>\n",
       "    .dataframe tbody tr th:only-of-type {\n",
       "        vertical-align: middle;\n",
       "    }\n",
       "\n",
       "    .dataframe tbody tr th {\n",
       "        vertical-align: top;\n",
       "    }\n",
       "\n",
       "    .dataframe thead th {\n",
       "        text-align: right;\n",
       "    }\n",
       "</style>\n",
       "<table border=\"1\" class=\"dataframe\">\n",
       "  <thead>\n",
       "    <tr style=\"text-align: right;\">\n",
       "      <th></th>\n",
       "      <th>id</th>\n",
       "      <th>text</th>\n",
       "      <th>genre</th>\n",
       "      <th>labels</th>\n",
       "    </tr>\n",
       "  </thead>\n",
       "  <tbody>\n",
       "    <tr>\n",
       "      <th>0</th>\n",
       "      <td>26123</td>\n",
       "      <td>[oic, come, live, room, int, live, room, famil...</td>\n",
       "      <td>thriller</td>\n",
       "      <td>8</td>\n",
       "    </tr>\n",
       "    <tr>\n",
       "      <th>1</th>\n",
       "      <td>15843</td>\n",
       "      <td>[n, exot, look, contain, full, dark, liquid, g...</td>\n",
       "      <td>thriller</td>\n",
       "      <td>8</td>\n",
       "    </tr>\n",
       "    <tr>\n",
       "      <th>2</th>\n",
       "      <td>7385</td>\n",
       "      <td>[board, game, danni, stalingrad, whit, gettysb...</td>\n",
       "      <td>drama</td>\n",
       "      <td>3</td>\n",
       "    </tr>\n",
       "    <tr>\n",
       "      <th>3</th>\n",
       "      <td>17645</td>\n",
       "      <td>[ng, sir, hand, posit, grant, noth, see, remai...</td>\n",
       "      <td>thriller</td>\n",
       "      <td>8</td>\n",
       "    </tr>\n",
       "    <tr>\n",
       "      <th>4</th>\n",
       "      <td>25175</td>\n",
       "      <td>[e, count, room, nobodi, ever, seem, see, anyt...</td>\n",
       "      <td>drama</td>\n",
       "      <td>3</td>\n",
       "    </tr>\n",
       "  </tbody>\n",
       "</table>\n",
       "</div>"
      ],
      "text/plain": [
       "      id                                               text     genre  labels\n",
       "0  26123  [oic, come, live, room, int, live, room, famil...  thriller       8\n",
       "1  15843  [n, exot, look, contain, full, dark, liquid, g...  thriller       8\n",
       "2   7385  [board, game, danni, stalingrad, whit, gettysb...     drama       3\n",
       "3  17645  [ng, sir, hand, posit, grant, noth, see, remai...  thriller       8\n",
       "4  25175  [e, count, room, nobodi, ever, seem, see, anyt...     drama       3"
      ]
     },
     "execution_count": 16,
     "metadata": {},
     "output_type": "execute_result"
    }
   ],
   "source": [
    "train[0:5]"
   ]
  },
  {
   "cell_type": "code",
   "execution_count": 17,
   "metadata": {},
   "outputs": [],
   "source": [
    "x = text"
   ]
  },
  {
   "cell_type": "code",
   "execution_count": 20,
   "metadata": {},
   "outputs": [],
   "source": [
    "tmp = []\n",
    "for sentence in x:\n",
    "    tmp.append(' '.join(sentence))"
   ]
  },
  {
   "cell_type": "code",
   "execution_count": 24,
   "metadata": {},
   "outputs": [
    {
     "data": {
      "text/plain": [
       "'ng sir hand posit grant noth see remain ship compani crew botani bay maroon fifteen year ago captain jame kirk terrel listen men women havent khan save strength captain peopl sworn live die command two hundr year born mean e chekov never told take chekhov amus captain never told enterpris pick botani bay lost space year nineteen nineti six ship compani cryogen freez terrel ive never even met admir kirk khan admir admir admir kirk continu 21 24 continu 2 24 khan contd never told admir kirk sent seventi us exil barren sand heap content cargo bay sustain us chekov lie ceti alpha five life fair chanc khan'"
      ]
     },
     "execution_count": 24,
     "metadata": {},
     "output_type": "execute_result"
    }
   ],
   "source": [
    "tmp[3]"
   ]
  },
  {
   "cell_type": "code",
   "execution_count": 25,
   "metadata": {},
   "outputs": [],
   "source": [
    "train['text'] = tmp"
   ]
  },
  {
   "cell_type": "code",
   "execution_count": 26,
   "metadata": {},
   "outputs": [
    {
     "data": {
      "text/html": [
       "<div>\n",
       "<style scoped>\n",
       "    .dataframe tbody tr th:only-of-type {\n",
       "        vertical-align: middle;\n",
       "    }\n",
       "\n",
       "    .dataframe tbody tr th {\n",
       "        vertical-align: top;\n",
       "    }\n",
       "\n",
       "    .dataframe thead th {\n",
       "        text-align: right;\n",
       "    }\n",
       "</style>\n",
       "<table border=\"1\" class=\"dataframe\">\n",
       "  <thead>\n",
       "    <tr style=\"text-align: right;\">\n",
       "      <th></th>\n",
       "      <th>id</th>\n",
       "      <th>text</th>\n",
       "      <th>genre</th>\n",
       "      <th>labels</th>\n",
       "    </tr>\n",
       "  </thead>\n",
       "  <tbody>\n",
       "    <tr>\n",
       "      <th>0</th>\n",
       "      <td>26123</td>\n",
       "      <td>oic come live room int live room famili cheer ...</td>\n",
       "      <td>thriller</td>\n",
       "      <td>8</td>\n",
       "    </tr>\n",
       "    <tr>\n",
       "      <th>1</th>\n",
       "      <td>15843</td>\n",
       "      <td>n exot look contain full dark liquid guinan tw...</td>\n",
       "      <td>thriller</td>\n",
       "      <td>8</td>\n",
       "    </tr>\n",
       "    <tr>\n",
       "      <th>2</th>\n",
       "      <td>7385</td>\n",
       "      <td>board game danni stalingrad whit gettysburg re...</td>\n",
       "      <td>drama</td>\n",
       "      <td>3</td>\n",
       "    </tr>\n",
       "    <tr>\n",
       "      <th>3</th>\n",
       "      <td>17645</td>\n",
       "      <td>ng sir hand posit grant noth see remain ship c...</td>\n",
       "      <td>thriller</td>\n",
       "      <td>8</td>\n",
       "    </tr>\n",
       "    <tr>\n",
       "      <th>4</th>\n",
       "      <td>25175</td>\n",
       "      <td>e count room nobodi ever seem see anyth someho...</td>\n",
       "      <td>drama</td>\n",
       "      <td>3</td>\n",
       "    </tr>\n",
       "    <tr>\n",
       "      <th>5</th>\n",
       "      <td>6256</td>\n",
       "      <td>bed night brian jennif rhythm breath deepli wa...</td>\n",
       "      <td>drama</td>\n",
       "      <td>3</td>\n",
       "    </tr>\n",
       "    <tr>\n",
       "      <th>6</th>\n",
       "      <td>15167</td>\n",
       "      <td>ct beam heat vision shoot hero eye strike stee...</td>\n",
       "      <td>action</td>\n",
       "      <td>0</td>\n",
       "    </tr>\n",
       "    <tr>\n",
       "      <th>7</th>\n",
       "      <td>8340</td>\n",
       "      <td>ie father reach altar prissi man place posit b...</td>\n",
       "      <td>comedy</td>\n",
       "      <td>2</td>\n",
       "    </tr>\n",
       "    <tr>\n",
       "      <th>8</th>\n",
       "      <td>7808</td>\n",
       "      <td>dust look skyward loft area fox move ladder st...</td>\n",
       "      <td>horror</td>\n",
       "      <td>4</td>\n",
       "    </tr>\n",
       "    <tr>\n",
       "      <th>9</th>\n",
       "      <td>16011</td>\n",
       "      <td>ng folder box reed im done machin victor preci...</td>\n",
       "      <td>action</td>\n",
       "      <td>0</td>\n",
       "    </tr>\n",
       "  </tbody>\n",
       "</table>\n",
       "</div>"
      ],
      "text/plain": [
       "      id                                               text     genre  labels\n",
       "0  26123  oic come live room int live room famili cheer ...  thriller       8\n",
       "1  15843  n exot look contain full dark liquid guinan tw...  thriller       8\n",
       "2   7385  board game danni stalingrad whit gettysburg re...     drama       3\n",
       "3  17645  ng sir hand posit grant noth see remain ship c...  thriller       8\n",
       "4  25175  e count room nobodi ever seem see anyth someho...     drama       3\n",
       "5   6256  bed night brian jennif rhythm breath deepli wa...     drama       3\n",
       "6  15167  ct beam heat vision shoot hero eye strike stee...    action       0\n",
       "7   8340  ie father reach altar prissi man place posit b...    comedy       2\n",
       "8   7808  dust look skyward loft area fox move ladder st...    horror       4\n",
       "9  16011  ng folder box reed im done machin victor preci...    action       0"
      ]
     },
     "execution_count": 26,
     "metadata": {},
     "output_type": "execute_result"
    }
   ],
   "source": [
    "train[0:10]"
   ]
  },
  {
   "cell_type": "code",
   "execution_count": 27,
   "metadata": {},
   "outputs": [],
   "source": [
    "OUTPATH = '/Users/yngtodd/src/kaggle/scene/data/splits/small_val/cleaned'"
   ]
  },
  {
   "cell_type": "code",
   "execution_count": 28,
   "metadata": {},
   "outputs": [],
   "source": [
    "trainpath = os.path.join(OUTPATH, 'train.csv')\n",
    "train.to_csv(trainpath, index=False)"
   ]
  },
  {
   "cell_type": "markdown",
   "metadata": {},
   "source": [
    "### Validation Set"
   ]
  },
  {
   "cell_type": "code",
   "execution_count": 30,
   "metadata": {},
   "outputs": [],
   "source": [
    "valtext = val['text']"
   ]
  },
  {
   "cell_type": "code",
   "execution_count": 32,
   "metadata": {},
   "outputs": [],
   "source": [
    "valtext = clean(valtext)"
   ]
  },
  {
   "cell_type": "code",
   "execution_count": 34,
   "metadata": {},
   "outputs": [],
   "source": [
    "x = valtext\n",
    "\n",
    "tmp = []\n",
    "for sentence in x:\n",
    "    tmp.append(' '.join(sentence))"
   ]
  },
  {
   "cell_type": "code",
   "execution_count": 35,
   "metadata": {},
   "outputs": [
    {
     "data": {
      "text/plain": [
       "'tear come mac hey hey start hold push away hurt anger goe let hold face close streak tear kiss first hold back moment moment kiss emot theyv held flow breath hard pull back gin ive got know someth stare gin contd palac lake mac would realli drown nod yes that mac contd absolut say simpli honest begin smile gin good id done thing mac question gentl close nostril finger gin im go drown kiss cover mouth cant breath goe play real hand goe shirt blous leg intertwin breath get heavi see skin'"
      ]
     },
     "execution_count": 35,
     "metadata": {},
     "output_type": "execute_result"
    }
   ],
   "source": [
    "tmp[0]"
   ]
  },
  {
   "cell_type": "code",
   "execution_count": 36,
   "metadata": {},
   "outputs": [],
   "source": [
    "val['text'] = tmp"
   ]
  },
  {
   "cell_type": "code",
   "execution_count": 37,
   "metadata": {},
   "outputs": [
    {
     "data": {
      "text/html": [
       "<div>\n",
       "<style scoped>\n",
       "    .dataframe tbody tr th:only-of-type {\n",
       "        vertical-align: middle;\n",
       "    }\n",
       "\n",
       "    .dataframe tbody tr th {\n",
       "        vertical-align: top;\n",
       "    }\n",
       "\n",
       "    .dataframe thead th {\n",
       "        text-align: right;\n",
       "    }\n",
       "</style>\n",
       "<table border=\"1\" class=\"dataframe\">\n",
       "  <thead>\n",
       "    <tr style=\"text-align: right;\">\n",
       "      <th></th>\n",
       "      <th>id</th>\n",
       "      <th>text</th>\n",
       "      <th>genre</th>\n",
       "      <th>labels</th>\n",
       "    </tr>\n",
       "  </thead>\n",
       "  <tbody>\n",
       "    <tr>\n",
       "      <th>0</th>\n",
       "      <td>19565</td>\n",
       "      <td>tear come mac hey hey start hold push away hur...</td>\n",
       "      <td>thriller</td>\n",
       "      <td>8</td>\n",
       "    </tr>\n",
       "    <tr>\n",
       "      <th>1</th>\n",
       "      <td>4442</td>\n",
       "      <td>om wallet polli searl rent bike raini ale tisb...</td>\n",
       "      <td>thriller</td>\n",
       "      <td>8</td>\n",
       "    </tr>\n",
       "    <tr>\n",
       "      <th>2</th>\n",
       "      <td>12125</td>\n",
       "      <td>stink troubl make best turn around bite us ass...</td>\n",
       "      <td>thriller</td>\n",
       "      <td>8</td>\n",
       "    </tr>\n",
       "    <tr>\n",
       "      <th>3</th>\n",
       "      <td>5116</td>\n",
       "      <td>japanes kid ishmael friend bus fill stone face...</td>\n",
       "      <td>drama</td>\n",
       "      <td>3</td>\n",
       "    </tr>\n",
       "    <tr>\n",
       "      <th>4</th>\n",
       "      <td>25014</td>\n",
       "      <td>ly give credit hell first wife inspir ugli one...</td>\n",
       "      <td>comedy</td>\n",
       "      <td>2</td>\n",
       "    </tr>\n",
       "    <tr>\n",
       "      <th>5</th>\n",
       "      <td>14859</td>\n",
       "      <td>n roof mouth nobodi could read dissolv ext mou...</td>\n",
       "      <td>drama</td>\n",
       "      <td>3</td>\n",
       "    </tr>\n",
       "    <tr>\n",
       "      <th>6</th>\n",
       "      <td>24517</td>\n",
       "      <td>e tabl warren wayn smile listen convers wipe c...</td>\n",
       "      <td>action</td>\n",
       "      <td>0</td>\n",
       "    </tr>\n",
       "    <tr>\n",
       "      <th>7</th>\n",
       "      <td>19068</td>\n",
       "      <td>ondit wonder would like sex idea go point spar...</td>\n",
       "      <td>action</td>\n",
       "      <td>0</td>\n",
       "    </tr>\n",
       "    <tr>\n",
       "      <th>8</th>\n",
       "      <td>26890</td>\n",
       "      <td>relax manner int polic car two plaincloth poli...</td>\n",
       "      <td>drama</td>\n",
       "      <td>3</td>\n",
       "    </tr>\n",
       "    <tr>\n",
       "      <th>9</th>\n",
       "      <td>25162</td>\n",
       "      <td>walk back bedroom close door behind ext dens j...</td>\n",
       "      <td>horror</td>\n",
       "      <td>4</td>\n",
       "    </tr>\n",
       "  </tbody>\n",
       "</table>\n",
       "</div>"
      ],
      "text/plain": [
       "      id                                               text     genre  labels\n",
       "0  19565  tear come mac hey hey start hold push away hur...  thriller       8\n",
       "1   4442  om wallet polli searl rent bike raini ale tisb...  thriller       8\n",
       "2  12125  stink troubl make best turn around bite us ass...  thriller       8\n",
       "3   5116  japanes kid ishmael friend bus fill stone face...     drama       3\n",
       "4  25014  ly give credit hell first wife inspir ugli one...    comedy       2\n",
       "5  14859  n roof mouth nobodi could read dissolv ext mou...     drama       3\n",
       "6  24517  e tabl warren wayn smile listen convers wipe c...    action       0\n",
       "7  19068  ondit wonder would like sex idea go point spar...    action       0\n",
       "8  26890  relax manner int polic car two plaincloth poli...     drama       3\n",
       "9  25162  walk back bedroom close door behind ext dens j...    horror       4"
      ]
     },
     "execution_count": 37,
     "metadata": {},
     "output_type": "execute_result"
    }
   ],
   "source": [
    "val[0:10]"
   ]
  },
  {
   "cell_type": "code",
   "execution_count": 38,
   "metadata": {},
   "outputs": [],
   "source": [
    "valpath = os.path.join(OUTPATH, 'val.csv')\n",
    "val.to_csv(valpath, index=False)"
   ]
  },
  {
   "cell_type": "markdown",
   "metadata": {},
   "source": [
    "### Test Set"
   ]
  },
  {
   "cell_type": "code",
   "execution_count": 40,
   "metadata": {},
   "outputs": [],
   "source": [
    "testtext = test['text']"
   ]
  },
  {
   "cell_type": "code",
   "execution_count": 41,
   "metadata": {},
   "outputs": [],
   "source": [
    "testtext = clean(testtext)"
   ]
  },
  {
   "cell_type": "code",
   "execution_count": 43,
   "metadata": {},
   "outputs": [],
   "source": [
    "test['text'] = testtext"
   ]
  },
  {
   "cell_type": "code",
   "execution_count": 44,
   "metadata": {},
   "outputs": [],
   "source": [
    "testpath = os.path.join(OUTPATH, 'test.csv')\n",
    "test.to_csv(testpath, index=False)"
   ]
  },
  {
   "cell_type": "code",
   "execution_count": 45,
   "metadata": {},
   "outputs": [],
   "source": [
    "train2 = pd.read_csv(trainpath)"
   ]
  },
  {
   "cell_type": "code",
   "execution_count": 46,
   "metadata": {},
   "outputs": [
    {
     "data": {
      "text/html": [
       "<div>\n",
       "<style scoped>\n",
       "    .dataframe tbody tr th:only-of-type {\n",
       "        vertical-align: middle;\n",
       "    }\n",
       "\n",
       "    .dataframe tbody tr th {\n",
       "        vertical-align: top;\n",
       "    }\n",
       "\n",
       "    .dataframe thead th {\n",
       "        text-align: right;\n",
       "    }\n",
       "</style>\n",
       "<table border=\"1\" class=\"dataframe\">\n",
       "  <thead>\n",
       "    <tr style=\"text-align: right;\">\n",
       "      <th></th>\n",
       "      <th>id</th>\n",
       "      <th>text</th>\n",
       "      <th>genre</th>\n",
       "      <th>labels</th>\n",
       "    </tr>\n",
       "  </thead>\n",
       "  <tbody>\n",
       "    <tr>\n",
       "      <th>0</th>\n",
       "      <td>26123</td>\n",
       "      <td>oic come live room int live room famili cheer ...</td>\n",
       "      <td>thriller</td>\n",
       "      <td>8</td>\n",
       "    </tr>\n",
       "    <tr>\n",
       "      <th>1</th>\n",
       "      <td>15843</td>\n",
       "      <td>n exot look contain full dark liquid guinan tw...</td>\n",
       "      <td>thriller</td>\n",
       "      <td>8</td>\n",
       "    </tr>\n",
       "    <tr>\n",
       "      <th>2</th>\n",
       "      <td>7385</td>\n",
       "      <td>board game danni stalingrad whit gettysburg re...</td>\n",
       "      <td>drama</td>\n",
       "      <td>3</td>\n",
       "    </tr>\n",
       "    <tr>\n",
       "      <th>3</th>\n",
       "      <td>17645</td>\n",
       "      <td>ng sir hand posit grant noth see remain ship c...</td>\n",
       "      <td>thriller</td>\n",
       "      <td>8</td>\n",
       "    </tr>\n",
       "    <tr>\n",
       "      <th>4</th>\n",
       "      <td>25175</td>\n",
       "      <td>e count room nobodi ever seem see anyth someho...</td>\n",
       "      <td>drama</td>\n",
       "      <td>3</td>\n",
       "    </tr>\n",
       "    <tr>\n",
       "      <th>5</th>\n",
       "      <td>6256</td>\n",
       "      <td>bed night brian jennif rhythm breath deepli wa...</td>\n",
       "      <td>drama</td>\n",
       "      <td>3</td>\n",
       "    </tr>\n",
       "    <tr>\n",
       "      <th>6</th>\n",
       "      <td>15167</td>\n",
       "      <td>ct beam heat vision shoot hero eye strike stee...</td>\n",
       "      <td>action</td>\n",
       "      <td>0</td>\n",
       "    </tr>\n",
       "    <tr>\n",
       "      <th>7</th>\n",
       "      <td>8340</td>\n",
       "      <td>ie father reach altar prissi man place posit b...</td>\n",
       "      <td>comedy</td>\n",
       "      <td>2</td>\n",
       "    </tr>\n",
       "    <tr>\n",
       "      <th>8</th>\n",
       "      <td>7808</td>\n",
       "      <td>dust look skyward loft area fox move ladder st...</td>\n",
       "      <td>horror</td>\n",
       "      <td>4</td>\n",
       "    </tr>\n",
       "    <tr>\n",
       "      <th>9</th>\n",
       "      <td>16011</td>\n",
       "      <td>ng folder box reed im done machin victor preci...</td>\n",
       "      <td>action</td>\n",
       "      <td>0</td>\n",
       "    </tr>\n",
       "  </tbody>\n",
       "</table>\n",
       "</div>"
      ],
      "text/plain": [
       "      id                                               text     genre  labels\n",
       "0  26123  oic come live room int live room famili cheer ...  thriller       8\n",
       "1  15843  n exot look contain full dark liquid guinan tw...  thriller       8\n",
       "2   7385  board game danni stalingrad whit gettysburg re...     drama       3\n",
       "3  17645  ng sir hand posit grant noth see remain ship c...  thriller       8\n",
       "4  25175  e count room nobodi ever seem see anyth someho...     drama       3\n",
       "5   6256  bed night brian jennif rhythm breath deepli wa...     drama       3\n",
       "6  15167  ct beam heat vision shoot hero eye strike stee...    action       0\n",
       "7   8340  ie father reach altar prissi man place posit b...    comedy       2\n",
       "8   7808  dust look skyward loft area fox move ladder st...    horror       4\n",
       "9  16011  ng folder box reed im done machin victor preci...    action       0"
      ]
     },
     "execution_count": 46,
     "metadata": {},
     "output_type": "execute_result"
    }
   ],
   "source": [
    "train2[0:10]"
   ]
  },
  {
   "cell_type": "code",
   "execution_count": null,
   "metadata": {},
   "outputs": [],
   "source": []
  }
 ],
 "metadata": {
  "kernelspec": {
   "display_name": "Python 3",
   "language": "python",
   "name": "python3"
  },
  "language_info": {
   "codemirror_mode": {
    "name": "ipython",
    "version": 3
   },
   "file_extension": ".py",
   "mimetype": "text/x-python",
   "name": "python",
   "nbconvert_exporter": "python",
   "pygments_lexer": "ipython3",
   "version": "3.7.1"
  }
 },
 "nbformat": 4,
 "nbformat_minor": 2
}
