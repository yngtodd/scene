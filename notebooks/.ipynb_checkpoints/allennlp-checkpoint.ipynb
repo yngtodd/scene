{
 "cells": [
  {
   "cell_type": "code",
   "execution_count": 16,
   "metadata": {},
   "outputs": [],
   "source": [
    "from scene.data.reader import DataReader\n",
    "from scene.data.tokenizers import spacy_word_tokenizer\n",
    "\n",
    "from allennlp.data.vocabulary import Vocabulary\n",
    "from allennlp.data.token_indexers.elmo_indexer import ELMoTokenCharactersIndexer\n",
    "\n",
    "from allennlp.data.iterators import BucketIterator"
   ]
  },
  {
   "cell_type": "code",
   "execution_count": 2,
   "metadata": {},
   "outputs": [],
   "source": [
    "DATAPATH = '/Users/yngtodd/src/kaggle/scene/data/splits/small_val/csv'"
   ]
  },
  {
   "cell_type": "code",
   "execution_count": 3,
   "metadata": {},
   "outputs": [],
   "source": [
    "token_indexer = ELMoTokenCharactersIndexer()"
   ]
  },
  {
   "cell_type": "code",
   "execution_count": 4,
   "metadata": {},
   "outputs": [],
   "source": [
    "reader = DataReader(\n",
    "    tokenizer=spacy_word_tokenizer,\n",
    "    token_indexers={\"tokens\": token_indexer}\n",
    ")"
   ]
  },
  {
   "cell_type": "code",
   "execution_count": 5,
   "metadata": {},
   "outputs": [
    {
     "name": "stderr",
     "output_type": "stream",
     "text": [
      "5589it [00:44, 125.82it/s]\n"
     ]
    }
   ],
   "source": [
    "testdata = reader.read(DATAPATH, 'test')"
   ]
  },
  {
   "cell_type": "code",
   "execution_count": 9,
   "metadata": {},
   "outputs": [
    {
     "data": {
      "text/plain": [
       "5589"
      ]
     },
     "execution_count": 9,
     "metadata": {},
     "output_type": "execute_result"
    }
   ],
   "source": [
    "len(testdata)"
   ]
  },
  {
   "cell_type": "code",
   "execution_count": 7,
   "metadata": {},
   "outputs": [],
   "source": [
    "#vars(testdata[0].fields[\"tokens\"])"
   ]
  },
  {
   "cell_type": "code",
   "execution_count": 10,
   "metadata": {},
   "outputs": [],
   "source": [
    "vocab = Vocabulary()"
   ]
  },
  {
   "cell_type": "code",
   "execution_count": 11,
   "metadata": {},
   "outputs": [
    {
     "data": {
      "text/plain": [
       "Vocabulary with namespaces:  Non Padded Namespaces: {'*tags', '*labels'}"
      ]
     },
     "execution_count": 11,
     "metadata": {},
     "output_type": "execute_result"
    }
   ],
   "source": [
    "vocab"
   ]
  },
  {
   "cell_type": "code",
   "execution_count": 18,
   "metadata": {},
   "outputs": [],
   "source": [
    "iterator = BucketIterator(\n",
    "    batch_size=64, \n",
    "    sorting_keys=[(\"tokens\", \"num_tokens\")],\n",
    ")"
   ]
  },
  {
   "cell_type": "code",
   "execution_count": 19,
   "metadata": {},
   "outputs": [],
   "source": [
    "iterator.index_with(vocab)"
   ]
  },
  {
   "cell_type": "code",
   "execution_count": 21,
   "metadata": {},
   "outputs": [],
   "source": [
    "batch = next(iter(iterator(testdata)))"
   ]
  },
  {
   "cell_type": "code",
   "execution_count": 22,
   "metadata": {},
   "outputs": [
    {
     "data": {
      "text/plain": [
       "{'tokens': {'tokens': tensor([[[259,  98, 119,  ..., 261, 261, 261],\n",
       "           [259, 115, 112,  ..., 261, 261, 261],\n",
       "           [259, 106, 117,  ..., 261, 261, 261],\n",
       "           ...,\n",
       "           [  0,   0,   0,  ...,   0,   0,   0],\n",
       "           [  0,   0,   0,  ...,   0,   0,   0],\n",
       "           [  0,   0,   0,  ...,   0,   0,   0]],\n",
       "  \n",
       "          [[259, 117, 112,  ..., 261, 261, 261],\n",
       "           [259, 109,  98,  ..., 261, 261, 261],\n",
       "           [259, 112, 115,  ..., 261, 261, 261],\n",
       "           ...,\n",
       "           [  0,   0,   0,  ...,   0,   0,   0],\n",
       "           [  0,   0,   0,  ...,   0,   0,   0],\n",
       "           [  0,   0,   0,  ...,   0,   0,   0]],\n",
       "  \n",
       "          [[259, 112, 260,  ..., 261, 261, 261],\n",
       "           [259, 117, 105,  ..., 261, 261, 261],\n",
       "           [259,  98, 109,  ..., 261, 261, 261],\n",
       "           ...,\n",
       "           [  0,   0,   0,  ...,   0,   0,   0],\n",
       "           [  0,   0,   0,  ...,   0,   0,   0],\n",
       "           [  0,   0,   0,  ...,   0,   0,   0]],\n",
       "  \n",
       "          ...,\n",
       "  \n",
       "          [[259, 104, 102,  ..., 261, 261, 261],\n",
       "           [259, 116, 105,  ..., 261, 261, 261],\n",
       "           [259,  45, 260,  ..., 261, 261, 261],\n",
       "           ...,\n",
       "           [  0,   0,   0,  ...,   0,   0,   0],\n",
       "           [  0,   0,   0,  ...,   0,   0,   0],\n",
       "           [  0,   0,   0,  ...,   0,   0,   0]],\n",
       "  \n",
       "          [[259, 111, 102,  ..., 261, 261, 261],\n",
       "           [259,  47, 260,  ..., 261, 261, 261],\n",
       "           [259,  67,  83,  ..., 261, 261, 261],\n",
       "           ...,\n",
       "           [  0,   0,   0,  ...,   0,   0,   0],\n",
       "           [  0,   0,   0,  ...,   0,   0,   0],\n",
       "           [  0,   0,   0,  ...,   0,   0,   0]],\n",
       "  \n",
       "          [[259,  84,  84,  ..., 261, 261, 261],\n",
       "           [259,  68,  80,  ..., 261, 261, 261],\n",
       "           [259,  88, 105,  ..., 261, 261, 261],\n",
       "           ...,\n",
       "           [259, 101, 115,  ..., 261, 261, 261],\n",
       "           [  0,   0,   0,  ...,   0,   0,   0],\n",
       "           [  0,   0,   0,  ...,   0,   0,   0]]])},\n",
       " 'id': [8101,\n",
       "  6776,\n",
       "  271,\n",
       "  249,\n",
       "  8644,\n",
       "  14260,\n",
       "  16131,\n",
       "  14721,\n",
       "  1504,\n",
       "  21890,\n",
       "  9550,\n",
       "  12383,\n",
       "  336,\n",
       "  25618,\n",
       "  5650,\n",
       "  8849,\n",
       "  6320,\n",
       "  13519,\n",
       "  14861,\n",
       "  22847,\n",
       "  28000,\n",
       "  19995,\n",
       "  21529,\n",
       "  9771,\n",
       "  15961,\n",
       "  17513,\n",
       "  24917,\n",
       "  11086,\n",
       "  12018,\n",
       "  2106,\n",
       "  6952,\n",
       "  13216,\n",
       "  7889,\n",
       "  25821,\n",
       "  12116,\n",
       "  10047,\n",
       "  27610,\n",
       "  17870,\n",
       "  19560,\n",
       "  8870,\n",
       "  22192,\n",
       "  16213,\n",
       "  8137,\n",
       "  25710,\n",
       "  8447,\n",
       "  3967,\n",
       "  4924,\n",
       "  7248,\n",
       "  16691,\n",
       "  18636,\n",
       "  17868,\n",
       "  25367,\n",
       "  11225,\n",
       "  23034,\n",
       "  15882,\n",
       "  3088,\n",
       "  5860,\n",
       "  19179,\n",
       "  2581,\n",
       "  1975,\n",
       "  26113,\n",
       "  19729,\n",
       "  707,\n",
       "  10029],\n",
       " 'label': tensor([[0.],\n",
       "         [0.],\n",
       "         [0.],\n",
       "         [0.],\n",
       "         [0.],\n",
       "         [0.],\n",
       "         [0.],\n",
       "         [0.],\n",
       "         [0.],\n",
       "         [0.],\n",
       "         [0.],\n",
       "         [0.],\n",
       "         [0.],\n",
       "         [0.],\n",
       "         [0.],\n",
       "         [0.],\n",
       "         [0.],\n",
       "         [0.],\n",
       "         [0.],\n",
       "         [0.],\n",
       "         [0.],\n",
       "         [0.],\n",
       "         [0.],\n",
       "         [0.],\n",
       "         [0.],\n",
       "         [0.],\n",
       "         [0.],\n",
       "         [0.],\n",
       "         [0.],\n",
       "         [0.],\n",
       "         [0.],\n",
       "         [0.],\n",
       "         [0.],\n",
       "         [0.],\n",
       "         [0.],\n",
       "         [0.],\n",
       "         [0.],\n",
       "         [0.],\n",
       "         [0.],\n",
       "         [0.],\n",
       "         [0.],\n",
       "         [0.],\n",
       "         [0.],\n",
       "         [0.],\n",
       "         [0.],\n",
       "         [0.],\n",
       "         [0.],\n",
       "         [0.],\n",
       "         [0.],\n",
       "         [0.],\n",
       "         [0.],\n",
       "         [0.],\n",
       "         [0.],\n",
       "         [0.],\n",
       "         [0.],\n",
       "         [0.],\n",
       "         [0.],\n",
       "         [0.],\n",
       "         [0.],\n",
       "         [0.],\n",
       "         [0.],\n",
       "         [0.],\n",
       "         [0.],\n",
       "         [0.]])}"
      ]
     },
     "execution_count": 22,
     "metadata": {},
     "output_type": "execute_result"
    }
   ],
   "source": [
    "batch"
   ]
  },
  {
   "cell_type": "code",
   "execution_count": null,
   "metadata": {},
   "outputs": [],
   "source": []
  }
 ],
 "metadata": {
  "kernelspec": {
   "display_name": "Python 3",
   "language": "python",
   "name": "python3"
  },
  "language_info": {
   "codemirror_mode": {
    "name": "ipython",
    "version": 3
   },
   "file_extension": ".py",
   "mimetype": "text/x-python",
   "name": "python",
   "nbconvert_exporter": "python",
   "pygments_lexer": "ipython3",
   "version": "3.7.1"
  }
 },
 "nbformat": 4,
 "nbformat_minor": 2
}
