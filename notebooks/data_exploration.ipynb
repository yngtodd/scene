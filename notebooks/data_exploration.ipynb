{
 "cells": [
  {
   "cell_type": "code",
   "execution_count": 47,
   "metadata": {},
   "outputs": [],
   "source": [
    "import numpy as np\n",
    "import pandas as pd\n",
    "import seaborn as sns\n",
    "\n",
    "from sklearn.preprocessing import LabelEncoder"
   ]
  },
  {
   "cell_type": "code",
   "execution_count": 60,
   "metadata": {},
   "outputs": [],
   "source": [
    "sns.set(color_codes=True)"
   ]
  },
  {
   "cell_type": "code",
   "execution_count": 83,
   "metadata": {},
   "outputs": [],
   "source": [
    "TRAIN = '/Users/yngtodd/src/kaggle/scene/data/csv/original/train.csv'\n",
    "TEST = '/Users/yngtodd/src/kaggle/scene/data/csv/original/test.csv'\n",
    "\n",
    "OUT_TRAIN = '/Users/yngtodd/src/kaggle/scene/data/textfiles/train.txt'\n",
    "OUT_TEST = '/Users/yngtodd/src/kaggle/scene/data/textfiles/test.txt'\n",
    "\n",
    "PROCESSED_TRAIN = '/Users/yngtodd/src/kaggle/scene/data/csv/processed/train.csv'\n",
    "LABELS = '/Users/yngtodd/src/kaggle/scene/data/labels.npy'"
   ]
  },
  {
   "cell_type": "code",
   "execution_count": 32,
   "metadata": {},
   "outputs": [],
   "source": [
    "def write_text(datapath, outpath):\n",
    "    \"\"\"Save text data to regular text file.\"\"\"\n",
    "    data = pd.read_csv(datapath)\n",
    "    txt = data['text']\n",
    "    txt.to_csv(outpath, sep=' ', index=False, header=False)"
   ]
  },
  {
   "cell_type": "code",
   "execution_count": 33,
   "metadata": {},
   "outputs": [],
   "source": [
    "def load_data(datapath):\n",
    "    return pd.read_csv(datapath)"
   ]
  },
  {
   "cell_type": "code",
   "execution_count": 75,
   "metadata": {},
   "outputs": [],
   "source": [
    "def encode_labels(data):\n",
    "    le = LabelEncoder()\n",
    "    y_data = data['genre'].values\n",
    "    labels = le.fit_transform(y_data)\n",
    "    data['labels'] = labels\n",
    "    vals, counts = np.unique(labels, return_counts=True)\n",
    "    print(f'Labels: {vals}\\nCounts: {counts}')\n",
    "    return data"
   ]
  },
  {
   "cell_type": "code",
   "execution_count": 28,
   "metadata": {},
   "outputs": [],
   "source": [
    "write_text(TRAIN, OUT_TRAIN)\n",
    "write_text(TEST, OUT_TEST)"
   ]
  },
  {
   "cell_type": "code",
   "execution_count": 76,
   "metadata": {},
   "outputs": [],
   "source": [
    "train = load_data(TRAIN)\n",
    "test = load_data(TEST)"
   ]
  },
  {
   "cell_type": "code",
   "execution_count": 77,
   "metadata": {},
   "outputs": [
    {
     "name": "stdout",
     "output_type": "stream",
     "text": [
      "Labels: [0 1 2 3 4 5 6 7 8]\n",
      "Counts: [2392  147 2941 8873  456  270   63  613 6824]\n"
     ]
    }
   ],
   "source": [
    "train = encode_labels(train)"
   ]
  },
  {
   "cell_type": "code",
   "execution_count": 74,
   "metadata": {},
   "outputs": [
    {
     "data": {
      "image/png": "[encoded data removed]",
      "text/plain": [
       "<Figure size 432x288 with 1 Axes>"
      ]
     },
     "metadata": {},
     "output_type": "display_data"
    }
   ],
   "source": [
    "sns.distplot(train['labels'], bins=9, kde=False);"
   ]
  },
  {
   "cell_type": "code",
   "execution_count": 82,
   "metadata": {},
   "outputs": [],
   "source": [
    "train.to_csv(PROCESSED_TRAIN, index=False)"
   ]
  },
  {
   "cell_type": "code",
   "execution_count": 84,
   "metadata": {},
   "outputs": [],
   "source": [
    "labels = train['labels'].values\n",
    "np.save(LABELS, labels)"
   ]
  },
  {
   "cell_type": "code",
   "execution_count": null,
   "metadata": {},
   "outputs": [],
   "source": []
  }
 ],
 "metadata": {
  "kernelspec": {
   "display_name": "Python 3",
   "language": "python",
   "name": "python3"
  },
  "language_info": {
   "codemirror_mode": {
    "name": "ipython",
    "version": 3
   },
   "file_extension": ".py",
   "mimetype": "text/x-python",
   "name": "python",
   "nbconvert_exporter": "python",
   "pygments_lexer": "ipython3",
   "version": "3.7.1"
  }
 },
 "nbformat": 4,
 "nbformat_minor": 2
}
