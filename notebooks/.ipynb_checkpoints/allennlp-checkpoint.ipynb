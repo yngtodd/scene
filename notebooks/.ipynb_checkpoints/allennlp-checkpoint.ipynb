{
 "cells": [
  {
   "cell_type": "code",
   "execution_count": 1,
   "metadata": {},
   "outputs": [],
   "source": [
    "from scene.data.reader import DataReader\n",
    "from scene.data.tokenizers import spacy_word_tokenizer\n",
    "\n",
    "from allennlp.data.vocabulary import Vocabulary\n",
    "from allennlp.data.token_indexers.elmo_indexer import ELMoTokenCharactersIndexer\n",
    "\n",
    "from allennlp.data.iterators import BucketIterator"
   ]
  },
  {
   "cell_type": "code",
   "execution_count": 2,
   "metadata": {},
   "outputs": [],
   "source": [
    "DATAPATH = '/home/ygx/dev/kaggle/scene/data/splits/small_val/csv'"
   ]
  },
  {
   "cell_type": "code",
   "execution_count": 3,
   "metadata": {},
   "outputs": [],
   "source": [
    "token_indexer = ELMoTokenCharactersIndexer()"
   ]
  },
  {
   "cell_type": "code",
   "execution_count": 4,
   "metadata": {},
   "outputs": [],
   "source": [
    "reader = DataReader(\n",
    "    tokenizer=spacy_word_tokenizer,\n",
    "    token_indexers={\"tokens\": token_indexer}\n",
    ")"
   ]
  },
  {
   "cell_type": "code",
   "execution_count": 5,
   "metadata": {
    "scrolled": true
   },
   "outputs": [
    {
     "name": "stderr",
     "output_type": "stream",
     "text": [
      "20321it [01:42, 197.57it/s]\n"
     ]
    }
   ],
   "source": [
    "traindata = reader.read(DATAPATH, 'train')"
   ]
  },
  {
   "cell_type": "code",
   "execution_count": 6,
   "metadata": {},
   "outputs": [
    {
     "data": {
      "text/plain": [
       "20321"
      ]
     },
     "execution_count": 6,
     "metadata": {},
     "output_type": "execute_result"
    }
   ],
   "source": [
    "len(traindata)"
   ]
  },
  {
   "cell_type": "code",
   "execution_count": 7,
   "metadata": {},
   "outputs": [],
   "source": [
    "#vars(testdata[0].fields[\"tokens\"])"
   ]
  },
  {
   "cell_type": "code",
   "execution_count": 8,
   "metadata": {},
   "outputs": [],
   "source": [
    "vocab = Vocabulary()"
   ]
  },
  {
   "cell_type": "code",
   "execution_count": 9,
   "metadata": {},
   "outputs": [
    {
     "data": {
      "text/plain": [
       "Vocabulary with namespaces:  Non Padded Namespaces: {'*tags', '*labels'}"
      ]
     },
     "execution_count": 9,
     "metadata": {},
     "output_type": "execute_result"
    }
   ],
   "source": [
    "vocab"
   ]
  },
  {
   "cell_type": "code",
   "execution_count": 10,
   "metadata": {},
   "outputs": [],
   "source": [
    "iterator = BucketIterator(\n",
    "    batch_size=64, \n",
    "    sorting_keys=[(\"tokens\", \"num_tokens\")],\n",
    ")"
   ]
  },
  {
   "cell_type": "code",
   "execution_count": 11,
   "metadata": {},
   "outputs": [],
   "source": [
    "iterator.index_with(vocab)"
   ]
  },
  {
   "cell_type": "code",
   "execution_count": 13,
   "metadata": {},
   "outputs": [],
   "source": [
    "batch = next(iter(iterator(traindata)))"
   ]
  },
  {
   "cell_type": "code",
   "execution_count": 14,
   "metadata": {},
   "outputs": [
    {
     "data": {
      "text/plain": [
       "{'tokens': {'tokens': tensor([[[259, 106, 116,  ..., 261, 261, 261],\n",
       "           [259, 100,  98,  ..., 261, 261, 261],\n",
       "           [259,  98, 109,  ..., 261, 261, 261],\n",
       "           ...,\n",
       "           [  0,   0,   0,  ...,   0,   0,   0],\n",
       "           [  0,   0,   0,  ...,   0,   0,   0],\n",
       "           [  0,   0,   0,  ...,   0,   0,   0]],\n",
       "  \n",
       "          [[259, 108, 102,  ..., 261, 261, 261],\n",
       "           [259,  98, 111,  ..., 261, 261, 261],\n",
       "           [259, 115, 102,  ..., 261, 261, 261],\n",
       "           ...,\n",
       "           [  0,   0,   0,  ...,   0,   0,   0],\n",
       "           [  0,   0,   0,  ...,   0,   0,   0],\n",
       "           [  0,   0,   0,  ...,   0,   0,   0]],\n",
       "  \n",
       "          [[259,  98, 119,  ..., 261, 261, 261],\n",
       "           [259,  98, 111,  ..., 261, 261, 261],\n",
       "           [259, 103, 118,  ..., 261, 261, 261],\n",
       "           ...,\n",
       "           [  0,   0,   0,  ...,   0,   0,   0],\n",
       "           [  0,   0,   0,  ...,   0,   0,   0],\n",
       "           [  0,   0,   0,  ...,   0,   0,   0]],\n",
       "  \n",
       "          ...,\n",
       "  \n",
       "          [[259, 106, 111,  ..., 261, 261, 261],\n",
       "           [259, 117, 105,  ..., 261, 261, 261],\n",
       "           [259, 104, 109,  ..., 261, 261, 261],\n",
       "           ...,\n",
       "           [  0,   0,   0,  ...,   0,   0,   0],\n",
       "           [  0,   0,   0,  ...,   0,   0,   0],\n",
       "           [  0,   0,   0,  ...,   0,   0,   0]],\n",
       "  \n",
       "          [[259, 120, 102,  ..., 261, 261, 261],\n",
       "           [259, 104, 102,  ..., 261, 261, 261],\n",
       "           [259, 103, 112,  ..., 261, 261, 261],\n",
       "           ...,\n",
       "           [259, 110, 112,  ..., 261, 261, 261],\n",
       "           [259,  47,  47,  ..., 261, 261, 261],\n",
       "           [259,  68,  66,  ..., 261, 261, 261]],\n",
       "  \n",
       "          [[259,  98, 117,  ..., 261, 261, 261],\n",
       "           [259, 105, 106,  ..., 261, 261, 261],\n",
       "           [259, 111,  98,  ..., 261, 261, 261],\n",
       "           ...,\n",
       "           [  0,   0,   0,  ...,   0,   0,   0],\n",
       "           [  0,   0,   0,  ...,   0,   0,   0],\n",
       "           [  0,   0,   0,  ...,   0,   0,   0]]])},\n",
       " 'id': [24466,\n",
       "  8616,\n",
       "  2015,\n",
       "  557,\n",
       "  7653,\n",
       "  19533,\n",
       "  24561,\n",
       "  15284,\n",
       "  23868,\n",
       "  11640,\n",
       "  26345,\n",
       "  12779,\n",
       "  1908,\n",
       "  26534,\n",
       "  9610,\n",
       "  4913,\n",
       "  17498,\n",
       "  6204,\n",
       "  26078,\n",
       "  20452,\n",
       "  3697,\n",
       "  26650,\n",
       "  2256,\n",
       "  27086,\n",
       "  7091,\n",
       "  486,\n",
       "  6287,\n",
       "  12306,\n",
       "  21727,\n",
       "  6098,\n",
       "  23152,\n",
       "  6060,\n",
       "  11908,\n",
       "  5378,\n",
       "  17931,\n",
       "  26469,\n",
       "  24639,\n",
       "  19047,\n",
       "  23953,\n",
       "  26073,\n",
       "  3389,\n",
       "  18106,\n",
       "  1162,\n",
       "  17672,\n",
       "  11405,\n",
       "  5465,\n",
       "  12023,\n",
       "  4919,\n",
       "  4669,\n",
       "  28119,\n",
       "  26757,\n",
       "  24191,\n",
       "  10938,\n",
       "  5489,\n",
       "  11212,\n",
       "  22420,\n",
       "  10763,\n",
       "  19947,\n",
       "  10066,\n",
       "  3695,\n",
       "  6860,\n",
       "  5134,\n",
       "  11170,\n",
       "  4827],\n",
       " 'label': tensor([3., 3., 2., 4., 2., 0., 2., 2., 3., 8., 2., 2., 8., 8., 3., 0., 8., 8.,\n",
       "         8., 2., 4., 8., 0., 4., 7., 3., 3., 3., 3., 8., 2., 8., 3., 3., 3., 8.,\n",
       "         3., 2., 8., 3., 3., 8., 3., 3., 2., 0., 8., 7., 8., 8., 3., 3., 3., 3.,\n",
       "         2., 2., 3., 3., 8., 2., 2., 3., 3., 3.], dtype=torch.float64)}"
      ]
     },
     "execution_count": 14,
     "metadata": {},
     "output_type": "execute_result"
    }
   ],
   "source": [
    "batch"
   ]
  },
  {
   "cell_type": "code",
   "execution_count": 18,
   "metadata": {},
   "outputs": [
    {
     "data": {
      "text/plain": [
       "torch.Size([64, 246, 50])"
      ]
     },
     "execution_count": 18,
     "metadata": {},
     "output_type": "execute_result"
    }
   ],
   "source": [
    "batch[\"tokens\"][\"tokens\"].shape"
   ]
  },
  {
   "cell_type": "code",
   "execution_count": 16,
   "metadata": {},
   "outputs": [
    {
     "data": {
      "text/plain": [
       "torch.Size([64])"
      ]
     },
     "execution_count": 16,
     "metadata": {},
     "output_type": "execute_result"
    }
   ],
   "source": [
    "batch['label'].shape"
   ]
  },
  {
   "cell_type": "code",
   "execution_count": null,
   "metadata": {},
   "outputs": [],
   "source": []
  }
 ],
 "metadata": {
  "kernelspec": {
   "display_name": "Python 3",
   "language": "python",
   "name": "python3"
  },
  "language_info": {
   "codemirror_mode": {
    "name": "ipython",
    "version": 3
   },
   "file_extension": ".py",
   "mimetype": "text/x-python",
   "name": "python",
   "nbconvert_exporter": "python",
   "pygments_lexer": "ipython3",
   "version": "3.6.5"
  }
 },
 "nbformat": 4,
 "nbformat_minor": 2
}
