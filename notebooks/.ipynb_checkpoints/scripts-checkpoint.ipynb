{
 "cells": [
  {
   "cell_type": "markdown",
   "metadata": {},
   "source": [
    "### Creating New Data Samples from IMSDB\n",
    "\n",
    "\n",
    "\n",
    "Total number of data points: 22579"
   ]
  },
  {
   "cell_type": "markdown",
   "metadata": {},
   "source": [
    "#### The original training set had this distribution of genres:\n",
    "\n",
    "\n",
    "Action: 2392\n",
    "\n",
    "Adventure: 147\n",
    "\n",
    "Comedy: 2941\n",
    "\n",
    "Drama: 8873\n",
    "\n",
    "Horror: 456\n",
    "\n",
    "Other: 270\n",
    "\n",
    "Romance: 63\n",
    "\n",
    "Sci-Fi: 613\n",
    "\n",
    "Thriller: 6824\n",
    "\n",
    "Since the Dataset is so imbalanced, let's create enough samples of each genre to get to 8000 per genre."
   ]
  },
  {
   "cell_type": "code",
   "execution_count": 32,
   "metadata": {},
   "outputs": [],
   "source": [
    "import os\n",
    "import collections\n",
    "\n",
    "import numpy as np\n",
    "import pandas as pd"
   ]
  },
  {
   "cell_type": "code",
   "execution_count": 5,
   "metadata": {},
   "outputs": [],
   "source": [
    "datapath = '/Users/yngtodd/data/imsdb_raw_nov_2015/external'"
   ]
  },
  {
   "cell_type": "code",
   "execution_count": 9,
   "metadata": {},
   "outputs": [],
   "source": [
    "num_action = 8000 - 2392\n",
    "num_adventure = 8000 - 147\n",
    "num_comedy = 8000 - 2941\n",
    "num_horror = 8000 - 456\n",
    "num_romance = 8000 - 63\n",
    "num_scifi = 8000 - 613\n",
    "num_thriller = 8000 - 6824"
   ]
  },
  {
   "cell_type": "markdown",
   "metadata": {},
   "source": [
    "### Strategy\n",
    "\n",
    "For each genre, select a script at random, grab 1000 random characters."
   ]
  },
  {
   "cell_type": "markdown",
   "metadata": {},
   "source": [
    "### Action"
   ]
  },
  {
   "cell_type": "code",
   "execution_count": 180,
   "metadata": {},
   "outputs": [
    {
     "name": "stdout",
     "output_type": "stream",
     "text": [
      "Number of lines we need from action movies: 5608\n"
     ]
    }
   ],
   "source": [
    "print(f'Number of lines we need from action movies: {num_action}')"
   ]
  },
  {
   "cell_type": "code",
   "execution_count": 14,
   "metadata": {},
   "outputs": [],
   "source": [
    "action_scripts = os.path.join(datapath, 'Action')"
   ]
  },
  {
   "cell_type": "code",
   "execution_count": 15,
   "metadata": {},
   "outputs": [],
   "source": [
    "scripts = os.listdir(action_scripts)"
   ]
  },
  {
   "cell_type": "code",
   "execution_count": 28,
   "metadata": {},
   "outputs": [],
   "source": [
    "# Which scripts will we grab from \n",
    "script_idxs = np.random.randint(low=0, high=len(scripts)-1, size=num_action)"
   ]
  },
  {
   "cell_type": "code",
   "execution_count": 41,
   "metadata": {},
   "outputs": [],
   "source": [
    "# Make sure we don't open the same script multiple times. \n",
    "counter_scripts = collections.Counter(script_idxs)"
   ]
  },
  {
   "cell_type": "code",
   "execution_count": 44,
   "metadata": {},
   "outputs": [
    {
     "name": "stdout",
     "output_type": "stream",
     "text": [
      "Script: 258, Number of 1000 chars to grab: 20\n"
     ]
    }
   ],
   "source": [
    "# Key: index indicating the script to open\n",
    "# value: number of 1000 character snippets we should grab.\n",
    "for script, num_lines in counter_scripts.items():\n",
    "    print(f'Script: {script}, Number of 1000 chars to grab: {num_lines}')\n",
    "    break"
   ]
  },
  {
   "cell_type": "code",
   "execution_count": 179,
   "metadata": {},
   "outputs": [],
   "source": [
    "def sample_from_genre(genre_path, num_lines, chars_per_line=1000):\n",
    "    scripts = os.listdir(genre_path)\n",
    "    # Which scripts will we grab from \n",
    "    script_idxs = np.random.randint(low=0, high=len(scripts)-1, size=num_lines)\n",
    "    # Make sure we don't open the same script multiple times. \n",
    "    counter_scripts = collections.Counter(script_idxs)\n",
    "    # Key: index indicating the script to open\n",
    "    # value: number of chars_per_line character snippets we should grab from key.\n",
    "    all_lines = []\n",
    "    for idx, n_lines in counter_scripts.items():\n",
    "        script_path = os.path.join(genre_path, scripts[idx])\n",
    "        lines = sample_from_script(script_path, n_lines, chars_per_line)\n",
    "        all_lines.extend(lines)\n",
    "    \n",
    "    return all_lines"
   ]
  },
  {
   "cell_type": "code",
   "execution_count": 171,
   "metadata": {},
   "outputs": [],
   "source": [
    "def sample_from_script(script_path, num_lines, chars_per_line):\n",
    "    \"\"\"Sample num_lines from a script.\n",
    "    \n",
    "    Parameters\n",
    "    ----------\n",
    "    script_path : str\n",
    "        Path to the script\n",
    "    \n",
    "    num_lines : int\n",
    "        Number of lines to sample.\n",
    "        \n",
    "    chars_per_line : int\n",
    "        Numer of consecutive characters considered a line.\n",
    "        \n",
    "    Returns\n",
    "    -------\n",
    "    lines : List\n",
    "        All the sampled lines. \n",
    "    \"\"\"\n",
    "    script = read_script(script_path)\n",
    "    script = split_n_lines(script, num_chars=chars_per_line)\n",
    "    lines = np.random.choice(script, num_lines)\n",
    "    return lines"
   ]
  },
  {
   "cell_type": "markdown",
   "metadata": {},
   "source": [
    "### Example Script "
   ]
  },
  {
   "cell_type": "code",
   "execution_count": 151,
   "metadata": {},
   "outputs": [],
   "source": [
    "my_script = os.path.join(action_scripts, scripts[0])\n",
    "\n",
    "with open(my_script, 'r') as f:\n",
    "    file = f.read().splitlines()"
   ]
  },
  {
   "cell_type": "code",
   "execution_count": 152,
   "metadata": {},
   "outputs": [],
   "source": [
    "all_lines = []\n",
    "for line in file:\n",
    "    line = \" \".join(line.split())\n",
    "    all_lines.append(line)"
   ]
  },
  {
   "cell_type": "code",
   "execution_count": 168,
   "metadata": {},
   "outputs": [],
   "source": [
    "def read_script(path: str) -> str:\n",
    "    with open(my_script, 'r') as f:\n",
    "        file = f.read().splitlines()\n",
    "    \n",
    "    all_lines = []\n",
    "    for line in file:\n",
    "        line = \" \".join(line.split())\n",
    "        all_lines.append(line)\n",
    "    \n",
    "    all_lines = ' '.join(all_lines)\n",
    "    \n",
    "    return all_lines"
   ]
  },
  {
   "cell_type": "code",
   "execution_count": 158,
   "metadata": {},
   "outputs": [],
   "source": [
    "n = 1000\n",
    "all_lines2 = [all_lines[i:i+n] for i in range(0, len(all_lines), n)]"
   ]
  },
  {
   "cell_type": "code",
   "execution_count": 159,
   "metadata": {},
   "outputs": [],
   "source": [
    "from typing import List\n",
    "\n",
    "\n",
    "def split_n_lines(script: str, num_chars: int=1000) -> List:\n",
    "    return [script[i:i+n] for i in range(0, len(script), n)]"
   ]
  },
  {
   "cell_type": "code",
   "execution_count": 160,
   "metadata": {},
   "outputs": [],
   "source": [
    "script2 = split_n_lines(all_lines)"
   ]
  },
  {
   "cell_type": "code",
   "execution_count": 162,
   "metadata": {},
   "outputs": [
    {
     "data": {
      "text/plain": [
       "True"
      ]
     },
     "execution_count": 162,
     "metadata": {},
     "output_type": "execute_result"
    }
   ],
   "source": [
    "script2[1] == all_lines2[1]"
   ]
  },
  {
   "cell_type": "code",
   "execution_count": 164,
   "metadata": {},
   "outputs": [
    {
     "data": {
      "text/plain": [
       "1000"
      ]
     },
     "execution_count": 164,
     "metadata": {},
     "output_type": "execute_result"
    }
   ],
   "source": [
    "len(script2[1])"
   ]
  },
  {
   "cell_type": "code",
   "execution_count": 169,
   "metadata": {},
   "outputs": [],
   "source": [
    "charlies_angels = read_script(my_script)\n",
    "lines = split_n_lines(charlies_angels)"
   ]
  },
  {
   "cell_type": "markdown",
   "metadata": {},
   "source": [
    "### Quick Test"
   ]
  },
  {
   "cell_type": "code",
   "execution_count": 172,
   "metadata": {},
   "outputs": [],
   "source": [
    "lines = sample_from_script(my_script, 10, 1000)"
   ]
  },
  {
   "cell_type": "code",
   "execution_count": 173,
   "metadata": {},
   "outputs": [
    {
     "data": {
      "text/plain": [
       "10"
      ]
     },
     "execution_count": 173,
     "metadata": {},
     "output_type": "execute_result"
    }
   ],
   "source": [
    "len(lines)"
   ]
  },
  {
   "cell_type": "code",
   "execution_count": 176,
   "metadata": {},
   "outputs": [
    {
     "data": {
      "text/plain": [
       "1000"
      ]
     },
     "execution_count": 176,
     "metadata": {},
     "output_type": "execute_result"
    }
   ],
   "source": [
    "len(lines[1])"
   ]
  },
  {
   "cell_type": "code",
   "execution_count": 181,
   "metadata": {},
   "outputs": [],
   "source": [
    "all_action_lines = sample_from_genre(action_scripts, num_action, 1000)"
   ]
  },
  {
   "cell_type": "code",
   "execution_count": 182,
   "metadata": {},
   "outputs": [
    {
     "data": {
      "text/plain": [
       "5608"
      ]
     },
     "execution_count": 182,
     "metadata": {},
     "output_type": "execute_result"
    }
   ],
   "source": [
    "len(all_action_lines)"
   ]
  },
  {
   "cell_type": "code",
   "execution_count": 183,
   "metadata": {},
   "outputs": [
    {
     "data": {
      "text/plain": [
       "1000"
      ]
     },
     "execution_count": 183,
     "metadata": {},
     "output_type": "execute_result"
    }
   ],
   "source": [
    "len(all_action_lines[0])"
   ]
  },
  {
   "cell_type": "code",
   "execution_count": null,
   "metadata": {},
   "outputs": [],
   "source": []
  }
 ],
 "metadata": {
  "kernelspec": {
   "display_name": "Python 3",
   "language": "python",
   "name": "python3"
  },
  "language_info": {
   "codemirror_mode": {
    "name": "ipython",
    "version": 3
   },
   "file_extension": ".py",
   "mimetype": "text/x-python",
   "name": "python",
   "nbconvert_exporter": "python",
   "pygments_lexer": "ipython3",
   "version": "3.7.1"
  }
 },
 "nbformat": 4,
 "nbformat_minor": 2
}
