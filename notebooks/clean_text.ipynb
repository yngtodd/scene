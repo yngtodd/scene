{
 "cells": [
  {
   "cell_type": "code",
   "execution_count": 2,
   "metadata": {},
   "outputs": [],
   "source": [
    "import os\n",
    "import pandas as pd\n",
    "\n",
    "from scene.data.preprocessing.preprocess import clean_special_chars, clean_numbers"
   ]
  },
  {
   "cell_type": "code",
   "execution_count": 3,
   "metadata": {},
   "outputs": [],
   "source": [
    "DATAPATH = '/Users/yngtodd/src/kaggle/scene/data/splits/small_val/csv'\n",
    "trainpath = os.path.join(DATAPATH, 'train.csv')\n",
    "valpath = os.path.join(DATAPATH, 'val.csv')\n",
    "testpath = os.path.join(DATAPATH, 'test.csv')"
   ]
  },
  {
   "cell_type": "code",
   "execution_count": 5,
   "metadata": {},
   "outputs": [],
   "source": [
    "train = pd.read_csv(trainpath)\n",
    "val = pd.read_csv(valpath)\n",
    "test = pd.read_csv(testpath)"
   ]
  },
  {
   "cell_type": "code",
   "execution_count": 6,
   "metadata": {},
   "outputs": [
    {
     "data": {
      "text/html": [
       "<div>\n",
       "<style scoped>\n",
       "    .dataframe tbody tr th:only-of-type {\n",
       "        vertical-align: middle;\n",
       "    }\n",
       "\n",
       "    .dataframe tbody tr th {\n",
       "        vertical-align: top;\n",
       "    }\n",
       "\n",
       "    .dataframe thead th {\n",
       "        text-align: right;\n",
       "    }\n",
       "</style>\n",
       "<table border=\"1\" class=\"dataframe\">\n",
       "  <thead>\n",
       "    <tr style=\"text-align: right;\">\n",
       "      <th></th>\n",
       "      <th>id</th>\n",
       "      <th>text</th>\n",
       "      <th>genre</th>\n",
       "      <th>labels</th>\n",
       "    </tr>\n",
       "  </thead>\n",
       "  <tbody>\n",
       "    <tr>\n",
       "      <th>0</th>\n",
       "      <td>26123</td>\n",
       "      <td>OICES coming from the living room. INT. LIVING...</td>\n",
       "      <td>thriller</td>\n",
       "      <td>8</td>\n",
       "    </tr>\n",
       "    <tr>\n",
       "      <th>1</th>\n",
       "      <td>15843</td>\n",
       "      <td>n exotic looking container full of dark liquid...</td>\n",
       "      <td>thriller</td>\n",
       "      <td>8</td>\n",
       "    </tr>\n",
       "    <tr>\n",
       "      <th>2</th>\n",
       "      <td>7385</td>\n",
       "      <td>at the board game. DANNY What is this, Staling...</td>\n",
       "      <td>drama</td>\n",
       "      <td>3</td>\n",
       "    </tr>\n",
       "    <tr>\n",
       "      <th>3</th>\n",
       "      <td>17645</td>\n",
       "      <td>ng, sir. I, on the other hand, am in a positio...</td>\n",
       "      <td>thriller</td>\n",
       "      <td>8</td>\n",
       "    </tr>\n",
       "    <tr>\n",
       "      <th>4</th>\n",
       "      <td>25175</td>\n",
       "      <td>e how in the count room nobody ever seems to s...</td>\n",
       "      <td>drama</td>\n",
       "      <td>3</td>\n",
       "    </tr>\n",
       "  </tbody>\n",
       "</table>\n",
       "</div>"
      ],
      "text/plain": [
       "      id                                               text     genre  labels\n",
       "0  26123  OICES coming from the living room. INT. LIVING...  thriller       8\n",
       "1  15843  n exotic looking container full of dark liquid...  thriller       8\n",
       "2   7385  at the board game. DANNY What is this, Staling...     drama       3\n",
       "3  17645  ng, sir. I, on the other hand, am in a positio...  thriller       8\n",
       "4  25175  e how in the count room nobody ever seems to s...     drama       3"
      ]
     },
     "execution_count": 6,
     "metadata": {},
     "output_type": "execute_result"
    }
   ],
   "source": [
    "train[0:5]"
   ]
  },
  {
   "cell_type": "code",
   "execution_count": null,
   "metadata": {},
   "outputs": [],
   "source": [
    "def clean_text(df):\n",
    "    for i, row in df.iterrows():\n",
    "        row "
   ]
  },
  {
   "cell_type": "code",
   "execution_count": 8,
   "metadata": {},
   "outputs": [],
   "source": [
    "x = train['text'][0]"
   ]
  },
  {
   "cell_type": "code",
   "execution_count": 9,
   "metadata": {},
   "outputs": [
    {
     "data": {
      "text/plain": [
       "\"OICES coming from the living room. INT. LIVING ROOM The family cheers as a clear picture appears on a big color TV and Phil emerges from behind it. PHIL Okay! We have TV! We can all get stupid again! NEIL What about cable? PHIL We'll get cable when the cable company is good and ready you think you can survive till then? NEIL No. JULIE Gimme a break, Neil your father just spent three hours connecting the VCR. Neil pushes a button to play a tape and we SEE Steve McQueen in solitary confinement in Papillion or The Great Escape. PHIL All right, that's enough for one day I want everyone up at the crack of dawn. We have the whole weekend to get this place in shape. Everyone moans, too excited to go to bed, as he turns off the VCR and the TV and everyone upstairs. CUT TO INT. NEIL'S ROOM NIGHT He dumps out of a box more cars, guns, soldiers and robots than we've ever seen. INT. MASTER BEDROOM Phil looks out the window over his new street before hanging up a sheet as a temporary curtain. It fa\""
      ]
     },
     "execution_count": 9,
     "metadata": {},
     "output_type": "execute_result"
    }
   ],
   "source": [
    "x"
   ]
  },
  {
   "cell_type": "code",
   "execution_count": 10,
   "metadata": {},
   "outputs": [],
   "source": [
    "y = clean_special_chars(x)"
   ]
  },
  {
   "cell_type": "code",
   "execution_count": 11,
   "metadata": {},
   "outputs": [
    {
     "data": {
      "text/plain": [
       "\"OICES coming from the living room. INT. LIVING ROOM The family cheers as a clear picture appears on a big color TV and Phil emerges from behind it. PHIL Okay! We have TV! We can all get stupid again! NEIL What about cable? PHIL We'll get cable when the cable company is good and ready you think you can survive till then? NEIL No. JULIE Gimme a break, Neil your father just spent three hours connecting the VCR. Neil pushes a button to play a tape and we SEE Steve McQueen in solitary confinement in Papillion or The Great Escape. PHIL All right, that's enough for one day I want everyone up at the crack of dawn. We have the whole weekend to get this place in shape. Everyone moans, too excited to go to bed, as he turns off the VCR and the TV and everyone upstairs. CUT TO INT. NEIL'S ROOM NIGHT He dumps out of a box more cars, guns, soldiers and robots than we've ever seen. INT. MASTER BEDROOM Phil looks out the window over his new street before hanging up a sheet as a temporary curtain. It fa\""
      ]
     },
     "execution_count": 11,
     "metadata": {},
     "output_type": "execute_result"
    }
   ],
   "source": [
    "y"
   ]
  },
  {
   "cell_type": "code",
   "execution_count": 14,
   "metadata": {},
   "outputs": [],
   "source": [
    "z = \"&*^(*&()abs)0909809098\""
   ]
  },
  {
   "cell_type": "code",
   "execution_count": 13,
   "metadata": {},
   "outputs": [
    {
     "data": {
      "text/plain": [
       "'&*^(*&()abs)'"
      ]
     },
     "execution_count": 13,
     "metadata": {},
     "output_type": "execute_result"
    }
   ],
   "source": [
    "clean_special_chars(z)"
   ]
  },
  {
   "cell_type": "code",
   "execution_count": 16,
   "metadata": {},
   "outputs": [],
   "source": [
    "z = clean_numbers(z)"
   ]
  },
  {
   "cell_type": "code",
   "execution_count": 17,
   "metadata": {},
   "outputs": [
    {
     "data": {
      "text/plain": [
       "'&*^(*&()abs)#####'"
      ]
     },
     "execution_count": 17,
     "metadata": {},
     "output_type": "execute_result"
    }
   ],
   "source": [
    "clean_special_chars(z)"
   ]
  },
  {
   "cell_type": "code",
   "execution_count": null,
   "metadata": {},
   "outputs": [],
   "source": []
  }
 ],
 "metadata": {
  "kernelspec": {
   "display_name": "Python 3",
   "language": "python",
   "name": "python3"
  },
  "language_info": {
   "codemirror_mode": {
    "name": "ipython",
    "version": 3
   },
   "file_extension": ".py",
   "mimetype": "text/x-python",
   "name": "python",
   "nbconvert_exporter": "python",
   "pygments_lexer": "ipython3",
   "version": "3.7.1"
  }
 },
 "nbformat": 4,
 "nbformat_minor": 2
}
